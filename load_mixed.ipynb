{
 "cells": [
  {
   "cell_type": "markdown",
   "metadata": {},
   "source": [
    "Loading data\n",
    "------------\n",
    " \n",
    "Loading tabular data with mixed numerical and categorical data in sklearn can be a bit cumbersome. \n",
    "You can use the following function as an example of how to process your own dataset.\n"
   ]
  },
  {
   "cell_type": "code",
   "execution_count": 7,
   "metadata": {
    "collapsed": true
   },
   "outputs": [],
   "source": [
    "import numpy\n",
    "import csv\n",
    "from sklearn.feature_extraction import DictVectorizer\n",
    "\n",
    "def read_adult_data(f):\n",
    "    '''Read adult dataset and return feature array, and sequence of targets.\n",
    "    \n",
    "    Categorical variables are converted to dummies. Targets are kept as is.'''\n",
    "    data = []\n",
    "    for row in csv.reader(open(f)):\n",
    "        if row: # skip empty lines\n",
    "            # convert each row into three items:\n",
    "            # (a) list of numerical features\n",
    "            # (b) dict of categorical features\n",
    "            # (c) target value\n",
    "            nums = [ row[0], row[2], row[4], row[10], row[11], row[12] ]\n",
    "            cats = { 'workclass': row[1], 'education': row[3], 'marital-status': row[5], \n",
    "                     'occupation': row[6], 'relationship': row[7], 'race': row[8], \n",
    "                     'sex': row[9], 'native-country': row[13] }\n",
    "            target = row[14]\n",
    "            data.append((nums, cats, target))\n",
    "    # Now we can use the DictVectorizer to create dummy variables for the categorical features\n",
    "    (Nums, Cats, Y) = zip(*data)\n",
    "    vec = DictVectorizer(sparse=False)\n",
    "    X_cat = vec.fit_transform(Cats)\n",
    "    # Convert numerical features into an array of floats\n",
    "    X_num = numpy.array(Nums, dtype='float')\n",
    "    # We now need to put the two types of variables in a single array\n",
    "    X = numpy.hstack([X_num, X_cat]) # hstack puts columns next to each other\n",
    "    return (X, numpy.array(Y))"
   ]
  },
  {
   "cell_type": "code",
   "execution_count": 8,
   "metadata": {
    "collapsed": false
   },
   "outputs": [],
   "source": [
    "X, Y = read_adult_data('adult.data.csv')"
   ]
  },
  {
   "cell_type": "code",
   "execution_count": 9,
   "metadata": {
    "collapsed": false
   },
   "outputs": [
    {
     "data": {
      "text/plain": [
       "(32561, 108)"
      ]
     },
     "execution_count": 9,
     "metadata": {},
     "output_type": "execute_result"
    }
   ],
   "source": [
    "X.shape"
   ]
  },
  {
   "cell_type": "code",
   "execution_count": 10,
   "metadata": {
    "collapsed": false
   },
   "outputs": [
    {
     "data": {
      "text/plain": [
       "(32561,)"
      ]
     },
     "execution_count": 10,
     "metadata": {},
     "output_type": "execute_result"
    }
   ],
   "source": [
    "Y.shape"
   ]
  },
  {
   "cell_type": "code",
   "execution_count": null,
   "metadata": {
    "collapsed": true
   },
   "outputs": [],
   "source": []
  }
 ],
 "metadata": {
  "kernelspec": {
   "display_name": "Python 3",
   "language": "python",
   "name": "python3"
  },
  "language_info": {
   "codemirror_mode": {
    "name": "ipython",
    "version": 3
   },
   "file_extension": ".py",
   "mimetype": "text/x-python",
   "name": "python",
   "nbconvert_exporter": "python",
   "pygments_lexer": "ipython3",
   "version": "3.4.3"
  }
 },
 "nbformat": 4,
 "nbformat_minor": 0
}
