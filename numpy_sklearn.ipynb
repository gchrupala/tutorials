{
 "metadata": {
  "name": ""
 },
 "nbformat": 3,
 "nbformat_minor": 0,
 "worksheets": [
  {
   "cells": [
    {
     "cell_type": "markdown",
     "metadata": {
      "slideshow": {
       "slide_type": "slide"
      }
     },
     "source": [
      "Quick introduction to `numpy` and `scikit-learn`\n",
      "================================================\n",
      "\n",
      "This IPython notebook is a brief introduction to useful Python libraries for working with data.\n",
      "CSV is an informal format for tabular data. Python's `csv` module is useful for loading datasets.\n",
      "\n",
      "Loading data\n",
      "------------\n",
      "\n",
      "We will define a function to load space-separated table of data, with any number of numeric columns, \n",
      "and a categorical last column. This is useful for our familiar iris dataset."
     ]
    },
    {
     "cell_type": "code",
     "collapsed": false,
     "input": [
      "import csv\n",
      "\n",
      "def load_table(path):\n",
      "    reader = csv.reader(open(path), delimiter=' ')\n",
      "    # Return a list of data, where we convert each row to a pair.\n",
      "    return [ (row[0:-1], row[-1]) for row in reader ]\n",
      "    "
     ],
     "language": "python",
     "metadata": {
      "slideshow": {
       "slide_type": "slide"
      }
     },
     "outputs": [],
     "prompt_number": 1
    },
    {
     "cell_type": "markdown",
     "metadata": {
      "slideshow": {
       "slide_type": "-"
      }
     },
     "source": [
      "The function `load_table` returns a list of pairs. The function `zip` can convert between a list of pairs and a pair of lists:"
     ]
    },
    {
     "cell_type": "code",
     "collapsed": false,
     "input": [
      "a = [1,2,3] ; b = [4,5,6]\n",
      "c = list(zip(a,b))\n",
      "print(c)"
     ],
     "language": "python",
     "metadata": {},
     "outputs": [
      {
       "output_type": "stream",
       "stream": "stdout",
       "text": [
        "[(1, 4), (2, 5), (3, 6)]\n"
       ]
      }
     ],
     "prompt_number": 8
    },
    {
     "cell_type": "code",
     "collapsed": false,
     "input": [
      "x, y = zip(*c)\n",
      "print(x)\n",
      "print(y)"
     ],
     "language": "python",
     "metadata": {},
     "outputs": [
      {
       "output_type": "stream",
       "stream": "stdout",
       "text": [
        "(1, 2, 3)\n",
        "(4, 5, 6)\n"
       ]
      }
     ],
     "prompt_number": 9
    },
    {
     "cell_type": "markdown",
     "metadata": {},
     "source": [
      "Using `zip` and `load_table` we will load the last column into `Y`, and all the other columns in `X`."
     ]
    },
    {
     "cell_type": "code",
     "collapsed": false,
     "input": [
      "X, Y = zip(*load_table('iris-train.txt'))\n",
      "print(X[0])\n",
      "print(Y[0])"
     ],
     "language": "python",
     "metadata": {},
     "outputs": [
      {
       "output_type": "stream",
       "stream": "stdout",
       "text": [
        "['5.5', '2.6', '4.4', '1.2']\n",
        "versicolor\n"
       ]
      }
     ],
     "prompt_number": 10
    },
    {
     "cell_type": "markdown",
     "metadata": {},
     "source": [
      "The rows of `X` hold the numbers as strings. We want to convert the whole of `X` into a 2D array of `float`s.\n",
      "\n",
      "Numpy arrays\n",
      "------------\n",
      "\n",
      "\n",
      "With the library `numpy` we can work conveniently with such data. Let's convert X into an array:\n"
     ]
    },
    {
     "cell_type": "code",
     "collapsed": false,
     "input": [
      "import numpy\n",
      "X = numpy.array(X, dtype='float')\n",
      "X"
     ],
     "language": "python",
     "metadata": {},
     "outputs": [
      {
       "metadata": {},
       "output_type": "pyout",
       "prompt_number": 11,
       "text": [
        "array([[ 5.5,  2.6,  4.4,  1.2],\n",
        "       [ 5.6,  2.7,  4.2,  1.3],\n",
        "       [ 4.9,  3.1,  1.5,  0.1],\n",
        "       [ 5.6,  2.8,  4.9,  2. ],\n",
        "       [ 6. ,  2.2,  4. ,  1. ],\n",
        "       [ 7.7,  2.6,  6.9,  2.3],\n",
        "       [ 6.7,  3.1,  4.4,  1.4],\n",
        "       [ 5.6,  3. ,  4.5,  1.5],\n",
        "       [ 4.9,  2.5,  4.5,  1.7],\n",
        "       [ 4.9,  3.1,  1.5,  0.1],\n",
        "       [ 4.6,  3.4,  1.4,  0.3],\n",
        "       [ 6.7,  2.5,  5.8,  1.8],\n",
        "       [ 6.9,  3.1,  5.4,  2.1],\n",
        "       [ 5.7,  3. ,  4.2,  1.2],\n",
        "       [ 4.8,  3.4,  1.9,  0.2],\n",
        "       [ 5.1,  3.5,  1.4,  0.2],\n",
        "       [ 5.1,  3.5,  1.4,  0.3],\n",
        "       [ 5.4,  3. ,  4.5,  1.5],\n",
        "       [ 6.8,  3.2,  5.9,  2.3],\n",
        "       [ 6.7,  3.1,  5.6,  2.4],\n",
        "       [ 6.5,  3.2,  5.1,  2. ],\n",
        "       [ 5.8,  2.7,  5.1,  1.9],\n",
        "       [ 5.7,  2.5,  5. ,  2. ],\n",
        "       [ 4.6,  3.2,  1.4,  0.2],\n",
        "       [ 7.3,  2.9,  6.3,  1.8],\n",
        "       [ 7.7,  2.8,  6.7,  2. ],\n",
        "       [ 6.2,  3.4,  5.4,  2.3],\n",
        "       [ 7.1,  3. ,  5.9,  2.1],\n",
        "       [ 6.4,  3.1,  5.5,  1.8],\n",
        "       [ 6. ,  3. ,  4.8,  1.8],\n",
        "       [ 6. ,  2.7,  5.1,  1.6],\n",
        "       [ 5.9,  3. ,  4.2,  1.5],\n",
        "       [ 5. ,  2.3,  3.3,  1. ],\n",
        "       [ 7.6,  3. ,  6.6,  2.1],\n",
        "       [ 4.8,  3.4,  1.6,  0.2],\n",
        "       [ 4.7,  3.2,  1.3,  0.2],\n",
        "       [ 5.4,  3.7,  1.5,  0.2],\n",
        "       [ 6.1,  2.8,  4. ,  1.3],\n",
        "       [ 6.3,  3.4,  5.6,  2.4],\n",
        "       [ 5.7,  3.8,  1.7,  0.3],\n",
        "       [ 5. ,  3.6,  1.4,  0.2],\n",
        "       [ 5.7,  4.4,  1.5,  0.4],\n",
        "       [ 6.3,  2.7,  4.9,  1.8],\n",
        "       [ 5.8,  2.8,  5.1,  2.4],\n",
        "       [ 6. ,  3.4,  4.5,  1.6],\n",
        "       [ 6.7,  3. ,  5. ,  1.7],\n",
        "       [ 6.4,  3.2,  5.3,  2.3],\n",
        "       [ 4.9,  3.1,  1.5,  0.1],\n",
        "       [ 5.7,  2.8,  4.1,  1.3],\n",
        "       [ 6.3,  2.3,  4.4,  1.3]])"
       ]
      }
     ],
     "prompt_number": 11
    },
    {
     "cell_type": "markdown",
     "metadata": {},
     "source": [
      "We can easily extract columns and rows.\n",
      "Extract first row:"
     ]
    },
    {
     "cell_type": "code",
     "collapsed": false,
     "input": [
      "X[0, :]"
     ],
     "language": "python",
     "metadata": {},
     "outputs": [
      {
       "metadata": {},
       "output_type": "pyout",
       "prompt_number": 12,
       "text": [
        "array([ 5.5,  2.6,  4.4,  1.2])"
       ]
      }
     ],
     "prompt_number": 12
    },
    {
     "cell_type": "markdown",
     "metadata": {},
     "source": [
      "Extract second column:"
     ]
    },
    {
     "cell_type": "code",
     "collapsed": false,
     "input": [
      "X[:, 1]"
     ],
     "language": "python",
     "metadata": {},
     "outputs": [
      {
       "metadata": {},
       "output_type": "pyout",
       "prompt_number": 13,
       "text": [
        "array([ 2.6,  2.7,  3.1,  2.8,  2.2,  2.6,  3.1,  3. ,  2.5,  3.1,  3.4,\n",
        "        2.5,  3.1,  3. ,  3.4,  3.5,  3.5,  3. ,  3.2,  3.1,  3.2,  2.7,\n",
        "        2.5,  3.2,  2.9,  2.8,  3.4,  3. ,  3.1,  3. ,  2.7,  3. ,  2.3,\n",
        "        3. ,  3.4,  3.2,  3.7,  2.8,  3.4,  3.8,  3.6,  4.4,  2.7,  2.8,\n",
        "        3.4,  3. ,  3.2,  3.1,  2.8,  2.3])"
       ]
      }
     ],
     "prompt_number": 13
    },
    {
     "cell_type": "markdown",
     "metadata": {},
     "source": [
      "Extract the first five rows of the second column:"
     ]
    },
    {
     "cell_type": "code",
     "collapsed": false,
     "input": [
      "u = X[0:5:,1]\n",
      "u"
     ],
     "language": "python",
     "metadata": {},
     "outputs": [
      {
       "metadata": {},
       "output_type": "pyout",
       "prompt_number": 14,
       "text": [
        "array([ 2.6,  2.7,  3.1,  2.8,  2.2])"
       ]
      }
     ],
     "prompt_number": 14
    },
    {
     "cell_type": "markdown",
     "metadata": {},
     "source": [
      "With `numpy` it is easy to apply an operation to all elements of an array.\n",
      "For example take the square root of each element."
     ]
    },
    {
     "cell_type": "code",
     "collapsed": false,
     "input": [
      "numpy.sqrt(u)"
     ],
     "language": "python",
     "metadata": {},
     "outputs": [
      {
       "metadata": {},
       "output_type": "pyout",
       "prompt_number": 15,
       "text": [
        "array([ 1.61245155,  1.64316767,  1.76068169,  1.67332005,  1.4832397 ])"
       ]
      }
     ],
     "prompt_number": 15
    },
    {
     "cell_type": "markdown",
     "metadata": {},
     "source": [
      "Multiply each element by 2:"
     ]
    },
    {
     "cell_type": "code",
     "collapsed": false,
     "input": [
      "v = 2*u"
     ],
     "language": "python",
     "metadata": {},
     "outputs": [],
     "prompt_number": 16
    },
    {
     "cell_type": "markdown",
     "metadata": {},
     "source": [
      "We can also perform various standard operations on vectors and matrices.\n",
      "For example add two vectors."
     ]
    },
    {
     "cell_type": "code",
     "collapsed": false,
     "input": [
      "u + v"
     ],
     "language": "python",
     "metadata": {},
     "outputs": [
      {
       "metadata": {},
       "output_type": "pyout",
       "prompt_number": 17,
       "text": [
        "array([ 7.8,  8.1,  9.3,  8.4,  6.6])"
       ]
      }
     ],
     "prompt_number": 17
    },
    {
     "cell_type": "markdown",
     "metadata": {},
     "source": [
      "Or multiply them elementwise:"
     ]
    },
    {
     "cell_type": "code",
     "collapsed": false,
     "input": [
      "u * v"
     ],
     "language": "python",
     "metadata": {},
     "outputs": [
      {
       "metadata": {},
       "output_type": "pyout",
       "prompt_number": 18,
       "text": [
        "array([ 13.52,  14.58,  19.22,  15.68,   9.68])"
       ]
      }
     ],
     "prompt_number": 18
    },
    {
     "cell_type": "markdown",
     "metadata": {},
     "source": [
      "Compute the dot product:"
     ]
    },
    {
     "cell_type": "code",
     "collapsed": false,
     "input": [
      "print(numpy.dot(u, v))"
     ],
     "language": "python",
     "metadata": {},
     "outputs": [
      {
       "output_type": "stream",
       "stream": "stdout",
       "text": [
        "72.68\n"
       ]
      }
     ],
     "prompt_number": 20
    },
    {
     "cell_type": "markdown",
     "metadata": {},
     "source": [
      "Scikit-learn\n",
      "------------\n",
      "\n",
      "This machine-learning library implements a number of basic learning algorithms and other useful functions for learning from data. It is integrated with `numpy` and uses `numpy` data structures.\n",
      "\n",
      "Most of the learning algorithms have a similar interface. This is how we usually work.\n",
      "\n",
      "First import models:"
     ]
    },
    {
     "cell_type": "code",
     "collapsed": false,
     "input": [
      "from sklearn.linear_model import SGDRegressor"
     ],
     "language": "python",
     "metadata": {},
     "outputs": [],
     "prompt_number": 21
    },
    {
     "cell_type": "markdown",
     "metadata": {},
     "source": [
      "Now we initialize a model, specifying some options: in this case, a linear model trained via stochastic gradient descent, with 10 iterations and squared loss function."
     ]
    },
    {
     "cell_type": "code",
     "collapsed": false,
     "input": [
      "model = SGDRegressor(n_iter=3, loss='squared_loss', random_state=123)"
     ],
     "language": "python",
     "metadata": {},
     "outputs": [],
     "prompt_number": 59
    },
    {
     "cell_type": "markdown",
     "metadata": {},
     "source": [
      "Training models is done with the function `fit`. It accepts two arguments: inputs and targets. \n",
      "Next, we will learn to predict the fourth feature (Petal Width) from the first three. "
     ]
    },
    {
     "cell_type": "code",
     "collapsed": false,
     "input": [
      "X[:,3]"
     ],
     "language": "python",
     "metadata": {},
     "outputs": [
      {
       "metadata": {},
       "output_type": "pyout",
       "prompt_number": 60,
       "text": [
        "array([ 1.2,  1.3,  0.1,  2. ,  1. ,  2.3,  1.4,  1.5,  1.7,  0.1,  0.3,\n",
        "        1.8,  2.1,  1.2,  0.2,  0.2,  0.3,  1.5,  2.3,  2.4,  2. ,  1.9,\n",
        "        2. ,  0.2,  1.8,  2. ,  2.3,  2.1,  1.8,  1.8,  1.6,  1.5,  1. ,\n",
        "        2.1,  0.2,  0.2,  0.2,  1.3,  2.4,  0.3,  0.2,  0.4,  1.8,  2.4,\n",
        "        1.6,  1.7,  2.3,  0.1,  1.3,  1.3])"
       ]
      }
     ],
     "prompt_number": 60
    },
    {
     "cell_type": "code",
     "collapsed": false,
     "input": [
      "X_reg = X[:,0:3]\n",
      "Y_reg = X[:,3]\n",
      "model.fit(X_reg, Y_reg)"
     ],
     "language": "python",
     "metadata": {},
     "outputs": [
      {
       "metadata": {},
       "output_type": "pyout",
       "prompt_number": 61,
       "text": [
        "SGDRegressor(alpha=0.0001, average=False, epsilon=0.1, eta0=0.01,\n",
        "       fit_intercept=True, l1_ratio=0.15, learning_rate='invscaling',\n",
        "       loss='squared_loss', n_iter=3, penalty='l2', power_t=0.25,\n",
        "       random_state=123, shuffle=True, verbose=0, warm_start=False)"
       ]
      }
     ],
     "prompt_number": 61
    },
    {
     "cell_type": "markdown",
     "metadata": {},
     "source": [
      "Once the model is trained, we can predict targets for new data. Let's load the developement data:"
     ]
    },
    {
     "cell_type": "code",
     "collapsed": false,
     "input": [
      "X_dev, Y_dev = zip(*load_table('iris-dev.txt'))\n",
      "X_dev = numpy.array(X_dev, dtype='float')\n",
      "X_reg_dev = X_dev[:,0:3]\n",
      "Y_reg_dev = X_dev[:,3]"
     ],
     "language": "python",
     "metadata": {},
     "outputs": [],
     "prompt_number": 62
    },
    {
     "cell_type": "markdown",
     "metadata": {},
     "source": [
      "And get predictions for X_dev:"
     ]
    },
    {
     "cell_type": "code",
     "collapsed": false,
     "input": [
      "Y_dev_pred = model.predict(X_reg_dev)\n",
      "print(Y_dev_pred[0:5])"
     ],
     "language": "python",
     "metadata": {},
     "outputs": [
      {
       "output_type": "stream",
       "stream": "stdout",
       "text": [
        "[ 0.58151673  0.59569244  1.77934487  1.76217756  2.23902208]\n"
       ]
      }
     ],
     "prompt_number": 63
    },
    {
     "cell_type": "markdown",
     "metadata": {},
     "source": [
      "Calculating Mean Squared Error is easy:"
     ]
    },
    {
     "cell_type": "code",
     "collapsed": false,
     "input": [
      "numpy.mean((Y_reg_dev-Y_dev_pred)**2)"
     ],
     "language": "python",
     "metadata": {},
     "outputs": [
      {
       "metadata": {},
       "output_type": "pyout",
       "prompt_number": 64,
       "text": [
        "0.091871416844427484"
       ]
      }
     ],
     "prompt_number": 64
    },
    {
     "cell_type": "markdown",
     "metadata": {},
     "source": [
      "Let's also compute Mean Absolute Error:"
     ]
    },
    {
     "cell_type": "code",
     "collapsed": false,
     "input": [
      "def mae(y, y_pred):\n",
      "    return numpy.mean(numpy.abs(y-y_pred))\n",
      "mae(Y_reg_dev, Y_dev_pred)"
     ],
     "language": "python",
     "metadata": {},
     "outputs": [
      {
       "metadata": {},
       "output_type": "pyout",
       "prompt_number": 66,
       "text": [
        "0.26103884766184848"
       ]
      }
     ],
     "prompt_number": 66
    },
    {
     "cell_type": "markdown",
     "metadata": {},
     "source": [
      "Our model could be doing better. Let's check how many iterations get the lowest error on development set."
     ]
    },
    {
     "cell_type": "code",
     "collapsed": false,
     "input": [
      "error = []\n",
      "for i in range(1, 50):\n",
      "    M = SGDRegressor(n_iter=i, loss='squared_loss', random_state=99)\n",
      "    M.fit(X_reg, Y_reg)\n",
      "    Y_dev_pred = M.predict(X_reg_dev)\n",
      "    error.append((i, mae(Y_reg_dev, Y_dev_pred)))\n",
      "error"
     ],
     "language": "python",
     "metadata": {},
     "outputs": [
      {
       "metadata": {},
       "output_type": "pyout",
       "prompt_number": 95,
       "text": [
        "[(1, 0.312907791629357),\n",
        " (2, 0.22760022023292412),\n",
        " (3, 0.20734973327359968),\n",
        " (4, 0.19647660614099746),\n",
        " (5, 0.21706585886482177),\n",
        " (6, 0.18632687104016518),\n",
        " (7, 0.17380017620065008),\n",
        " (8, 0.17027075186422017),\n",
        " (9, 0.16980567530618743),\n",
        " (10, 0.17244908176080206),\n",
        " (11, 0.18105823929419551),\n",
        " (12, 0.17048913912333746),\n",
        " (13, 0.17461691457829837),\n",
        " (14, 0.17468678767545481),\n",
        " (15, 0.17131104791802379),\n",
        " (16, 0.1814693724366068),\n",
        " (17, 0.17026246174535117),\n",
        " (18, 0.17197248141146468),\n",
        " (19, 0.17030376976262931),\n",
        " (20, 0.17147828624421774),\n",
        " (21, 0.17004479505294806),\n",
        " (22, 0.18916431727368624),\n",
        " (23, 0.17339835017520869),\n",
        " (24, 0.1723969837136666),\n",
        " (25, 0.16955669367575951),\n",
        " (26, 0.17551744586318083),\n",
        " (27, 0.17068909417917161),\n",
        " (28, 0.17304334443071748),\n",
        " (29, 0.17115114362287515),\n",
        " (30, 0.17150072058655227),\n",
        " (31, 0.17208659113430727),\n",
        " (32, 0.17318454938681271),\n",
        " (33, 0.17103260654683303),\n",
        " (34, 0.16836705302861843),\n",
        " (35, 0.17569055301994752),\n",
        " (36, 0.1680676897196941),\n",
        " (37, 0.1693872098896714),\n",
        " (38, 0.1690700849174869),\n",
        " (39, 0.18569073594168256),\n",
        " (40, 0.16877690821187541),\n",
        " (41, 0.16971234775703592),\n",
        " (42, 0.16799614548880698),\n",
        " (43, 0.16940275605444438),\n",
        " (44, 0.16750714289867921),\n",
        " (45, 0.16970451895577501),\n",
        " (46, 0.16719011040437956),\n",
        " (47, 0.1699970222689085),\n",
        " (48, 0.17194090884209953),\n",
        " (49, 0.16738714724636569)]"
       ]
      }
     ],
     "prompt_number": 95
    },
    {
     "cell_type": "markdown",
     "metadata": {},
     "source": [
      "Pylab\n",
      "-----\n",
      "\n",
      "It would be nice to plot this. We can do this with the library `pylab`. We can activate pylab inside an IPython notebook like this:"
     ]
    },
    {
     "cell_type": "code",
     "collapsed": false,
     "input": [
      "%pylab --no-import-all inline "
     ],
     "language": "python",
     "metadata": {},
     "outputs": [
      {
       "output_type": "stream",
       "stream": "stdout",
       "text": [
        "Populating the interactive namespace from numpy and matplotlib\n"
       ]
      }
     ],
     "prompt_number": 96
    },
    {
     "cell_type": "code",
     "collapsed": false,
     "input": [
      "pylab.figure(figsize(9,6))\n",
      "pylab.rcParams['font.size'] = 18\n",
      "pylab.xlabel(\"Iterations\")\n",
      "pylab.ylabel(\"Mean Absolute Error\")\n",
      "# We need x and y coordinates\n",
      "x, y = zip(*error)\n",
      "pylab.xlim((0, max(x)))\n",
      "# Add points\n",
      "pylab.scatter(x, y, alpha=0.5)\n",
      "# Connect them with line\n",
      "pylab.plot(x, y)"
     ],
     "language": "python",
     "metadata": {},
     "outputs": [
      {
       "metadata": {},
       "output_type": "pyout",
       "prompt_number": 97,
       "text": [
        "[<matplotlib.lines.Line2D at 0x7f4bc78eb588>]"
       ]
      },
      {
       "metadata": {},
       "output_type": "display_data",
       "png": "[encoded data removed]",
       "text": [
        "<matplotlib.figure.Figure at 0x7f4bc78bb5f8>"
       ]
      }
     ],
     "prompt_number": 97
    },
    {
     "cell_type": "markdown",
     "metadata": {},
     "source": [
      "## Classification\n",
      "\n",
      "Scikit learn also has many different models for classification. Let's use the Perceptron classifier model to classify the iris dataset."
     ]
    },
    {
     "cell_type": "code",
     "collapsed": false,
     "input": [
      "from sklearn.linear_model import Perceptron\n",
      "model = Perceptron(n_iter=5)\n",
      "model.fit(X, Y)"
     ],
     "language": "python",
     "metadata": {},
     "outputs": [
      {
       "metadata": {},
       "output_type": "pyout",
       "prompt_number": 124,
       "text": [
        "Perceptron(alpha=0.0001, class_weight=None, eta0=1.0, fit_intercept=True,\n",
        "      n_iter=5, n_jobs=1, penalty=None, random_state=0, shuffle=True,\n",
        "      verbose=0, warm_start=False)"
       ]
      }
     ],
     "prompt_number": 124
    },
    {
     "cell_type": "code",
     "collapsed": false,
     "input": [
      "Y_dev_pred = model.predict(X_dev)"
     ],
     "language": "python",
     "metadata": {},
     "outputs": [],
     "prompt_number": 125
    },
    {
     "cell_type": "markdown",
     "metadata": {},
     "source": [
      "For classification, we will compute the error rate:"
     ]
    },
    {
     "cell_type": "code",
     "collapsed": false,
     "input": [
      "numpy.mean(Y_dev_pred != Y_dev)"
     ],
     "language": "python",
     "metadata": {},
     "outputs": [
      {
       "metadata": {},
       "output_type": "pyout",
       "prompt_number": 126,
       "text": [
        "0.68000000000000005"
       ]
      }
     ],
     "prompt_number": 126
    },
    {
     "cell_type": "markdown",
     "metadata": {},
     "source": [
      "This is terrible. Let's try varying the number of iterations."
     ]
    },
    {
     "cell_type": "code",
     "collapsed": false,
     "input": [
      "error = []\n",
      "for i in range(1, 100):\n",
      "    M = Perceptron(n_iter=i, random_state=321)\n",
      "    M.fit(X, Y)\n",
      "    Y_dev_pred = M.predict(X_dev)\n",
      "    error.append((i, numpy.mean(Y_dev != Y_dev_pred)))\n",
      "pylab.figure(figsize(9,6))\n",
      "pylab.rcParams['font.size'] = 18\n",
      "pylab.xlabel(\"Iterations\")\n",
      "pylab.ylabel(\"Error rate\")\n",
      "# We need x and y coordinates\n",
      "x, y = zip(*error)\n",
      "#pylab.xlim((0, max(x)))\n",
      "# Add points\n",
      "pylab.scatter(x, y, alpha=0.5)\n",
      "# Connect them with line\n",
      "pylab.plot(x, y)"
     ],
     "language": "python",
     "metadata": {},
     "outputs": [
      {
       "metadata": {},
       "output_type": "pyout",
       "prompt_number": 129,
       "text": [
        "[<matplotlib.lines.Line2D at 0x7f4bc5eb9390>]"
       ]
      },
      {
       "metadata": {},
       "output_type": "display_data",
       "png": "[encoded data removed]",
       "text": [
        "<matplotlib.figure.Figure at 0x7f4bc5e13e80>"
       ]
      }
     ],
     "prompt_number": 129
    },
    {
     "cell_type": "markdown",
     "metadata": {},
     "source": [
      "On this small dataset, Perceptron is a bit erratic."
     ]
    },
    {
     "cell_type": "markdown",
     "metadata": {},
     "source": [
      "Exercises\n",
      "---------\n",
      "\n",
      "**Data manipulation**\n",
      "\n",
      "- Extract colums 1 and 2 (sepal length and width) from the iris training dataset and convert \n",
      "  them to a 2D array to use as input. \n",
      "- Extract column 3 (petal length) and convert it to a 1D array to use as target for regression.\n",
      "- Do the same for the development data\n",
      "\n",
      "**Training models**\n",
      "\n",
      "- Initialize a LinearRegression from sklearn.linear_models, \n",
      "- Train it on the inputs and targets from training data\n",
      "\n",
      "**Prediction and evaluation**\n",
      "\n",
      "- Use trained linear regression model to predict targets for develpment data. \n",
      "- Compute mean squared error and mean absolute error.\n",
      "\n",
      "\n"
     ]
    }
   ],
   "metadata": {}
  }
 ]
}