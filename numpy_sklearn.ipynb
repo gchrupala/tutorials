{
 "cells": [
  {
   "cell_type": "markdown",
   "metadata": {
    "slideshow": {
     "slide_type": "slide"
    }
   },
   "source": [
    "Quick introduction to `numpy` and `scikit-learn`\n",
    "================================================\n",
    "\n",
    "This IPython notebook is a brief introduction to useful Python libraries for working with data.\n",
    "CSV is an informal format for tabular data. Python's `csv` module is useful for loading datasets.\n",
    "\n",
    "Loading data\n",
    "------------\n",
    "\n",
    "We will define a function to load space-separated table of data, with any number of numeric columns, \n",
    "and a categorical last column. This is useful for our familiar iris dataset."
   ]
  },
  {
   "cell_type": "code",
   "execution_count": 1,
   "metadata": {
    "collapsed": false,
    "slideshow": {
     "slide_type": "slide"
    }
   },
   "outputs": [],
   "source": [
    "import csv\n",
    "\n",
    "def load_table(path):\n",
    "    reader = csv.reader(open(path), delimiter=' ')\n",
    "    # Return a list of data, where we convert each row to a pair.\n",
    "    return [ (row[0:-1], row[-1]) for row in reader ]\n",
    "    "
   ]
  },
  {
   "cell_type": "markdown",
   "metadata": {
    "slideshow": {
     "slide_type": "-"
    }
   },
   "source": [
    "The function `load_table` returns a list of pairs. The function `zip` can convert between a list of pairs and a pair of lists:"
   ]
  },
  {
   "cell_type": "code",
   "execution_count": 2,
   "metadata": {
    "collapsed": false
   },
   "outputs": [
    {
     "name": "stdout",
     "output_type": "stream",
     "text": [
      "[(1, 4), (2, 5), (3, 6)]\n"
     ]
    }
   ],
   "source": [
    "a = [1,2,3] ; b = [4,5,6]\n",
    "c = list(zip(a,b))\n",
    "print(c)"
   ]
  },
  {
   "cell_type": "code",
   "execution_count": 3,
   "metadata": {
    "collapsed": false
   },
   "outputs": [
    {
     "name": "stdout",
     "output_type": "stream",
     "text": [
      "(1, 2, 3)\n",
      "(4, 5, 6)\n"
     ]
    }
   ],
   "source": [
    "x, y = zip(*c)\n",
    "print(x)\n",
    "print(y)"
   ]
  },
  {
   "cell_type": "markdown",
   "metadata": {},
   "source": [
    "Using `zip` and `load_table` we will load the last column into `Y`, and all the other columns in `X`."
   ]
  },
  {
   "cell_type": "code",
   "execution_count": 4,
   "metadata": {
    "collapsed": false
   },
   "outputs": [
    {
     "name": "stdout",
     "output_type": "stream",
     "text": [
      "['5.5', '2.6', '4.4', '1.2']\n",
      "versicolor\n"
     ]
    }
   ],
   "source": [
    "X, Y = zip(*load_table('iris-train.txt'))\n",
    "print(X[0])\n",
    "print(Y[0])"
   ]
  },
  {
   "cell_type": "markdown",
   "metadata": {},
   "source": [
    "The rows of `X` hold the numbers as strings. We want to convert the whole of `X` into a 2D array of `float`s.\n",
    "\n",
    "Numpy arrays\n",
    "------------\n",
    "\n",
    "\n",
    "With the library `numpy` we can work conveniently with such data. Let's convert X into an array:\n"
   ]
  },
  {
   "cell_type": "code",
   "execution_count": 5,
   "metadata": {
    "collapsed": false
   },
   "outputs": [
    {
     "data": {
      "text/plain": [
       "array([[ 5.5,  2.6,  4.4,  1.2],\n",
       "       [ 5.6,  2.7,  4.2,  1.3],\n",
       "       [ 4.9,  3.1,  1.5,  0.1],\n",
       "       [ 5.6,  2.8,  4.9,  2. ],\n",
       "       [ 6. ,  2.2,  4. ,  1. ],\n",
       "       [ 7.7,  2.6,  6.9,  2.3],\n",
       "       [ 6.7,  3.1,  4.4,  1.4],\n",
       "       [ 5.6,  3. ,  4.5,  1.5],\n",
       "       [ 4.9,  2.5,  4.5,  1.7],\n",
       "       [ 4.9,  3.1,  1.5,  0.1],\n",
       "       [ 4.6,  3.4,  1.4,  0.3],\n",
       "       [ 6.7,  2.5,  5.8,  1.8],\n",
       "       [ 6.9,  3.1,  5.4,  2.1],\n",
       "       [ 5.7,  3. ,  4.2,  1.2],\n",
       "       [ 4.8,  3.4,  1.9,  0.2],\n",
       "       [ 5.1,  3.5,  1.4,  0.2],\n",
       "       [ 5.1,  3.5,  1.4,  0.3],\n",
       "       [ 5.4,  3. ,  4.5,  1.5],\n",
       "       [ 6.8,  3.2,  5.9,  2.3],\n",
       "       [ 6.7,  3.1,  5.6,  2.4],\n",
       "       [ 6.5,  3.2,  5.1,  2. ],\n",
       "       [ 5.8,  2.7,  5.1,  1.9],\n",
       "       [ 5.7,  2.5,  5. ,  2. ],\n",
       "       [ 4.6,  3.2,  1.4,  0.2],\n",
       "       [ 7.3,  2.9,  6.3,  1.8],\n",
       "       [ 7.7,  2.8,  6.7,  2. ],\n",
       "       [ 6.2,  3.4,  5.4,  2.3],\n",
       "       [ 7.1,  3. ,  5.9,  2.1],\n",
       "       [ 6.4,  3.1,  5.5,  1.8],\n",
       "       [ 6. ,  3. ,  4.8,  1.8],\n",
       "       [ 6. ,  2.7,  5.1,  1.6],\n",
       "       [ 5.9,  3. ,  4.2,  1.5],\n",
       "       [ 5. ,  2.3,  3.3,  1. ],\n",
       "       [ 7.6,  3. ,  6.6,  2.1],\n",
       "       [ 4.8,  3.4,  1.6,  0.2],\n",
       "       [ 4.7,  3.2,  1.3,  0.2],\n",
       "       [ 5.4,  3.7,  1.5,  0.2],\n",
       "       [ 6.1,  2.8,  4. ,  1.3],\n",
       "       [ 6.3,  3.4,  5.6,  2.4],\n",
       "       [ 5.7,  3.8,  1.7,  0.3],\n",
       "       [ 5. ,  3.6,  1.4,  0.2],\n",
       "       [ 5.7,  4.4,  1.5,  0.4],\n",
       "       [ 6.3,  2.7,  4.9,  1.8],\n",
       "       [ 5.8,  2.8,  5.1,  2.4],\n",
       "       [ 6. ,  3.4,  4.5,  1.6],\n",
       "       [ 6.7,  3. ,  5. ,  1.7],\n",
       "       [ 6.4,  3.2,  5.3,  2.3],\n",
       "       [ 4.9,  3.1,  1.5,  0.1],\n",
       "       [ 5.7,  2.8,  4.1,  1.3],\n",
       "       [ 6.3,  2.3,  4.4,  1.3]])"
      ]
     },
     "execution_count": 5,
     "metadata": {},
     "output_type": "execute_result"
    }
   ],
   "source": [
    "import numpy\n",
    "X = numpy.array(X, dtype='float')\n",
    "X"
   ]
  },
  {
   "cell_type": "markdown",
   "metadata": {},
   "source": [
    "We can easily extract columns and rows.\n",
    "Extract first row:"
   ]
  },
  {
   "cell_type": "code",
   "execution_count": 6,
   "metadata": {
    "collapsed": false
   },
   "outputs": [
    {
     "data": {
      "text/plain": [
       "array([ 5.5,  2.6,  4.4,  1.2])"
      ]
     },
     "execution_count": 6,
     "metadata": {},
     "output_type": "execute_result"
    }
   ],
   "source": [
    "X[0, :]"
   ]
  },
  {
   "cell_type": "markdown",
   "metadata": {},
   "source": [
    "Extract second column:"
   ]
  },
  {
   "cell_type": "code",
   "execution_count": 7,
   "metadata": {
    "collapsed": false
   },
   "outputs": [
    {
     "data": {
      "text/plain": [
       "array([ 2.6,  2.7,  3.1,  2.8,  2.2,  2.6,  3.1,  3. ,  2.5,  3.1,  3.4,\n",
       "        2.5,  3.1,  3. ,  3.4,  3.5,  3.5,  3. ,  3.2,  3.1,  3.2,  2.7,\n",
       "        2.5,  3.2,  2.9,  2.8,  3.4,  3. ,  3.1,  3. ,  2.7,  3. ,  2.3,\n",
       "        3. ,  3.4,  3.2,  3.7,  2.8,  3.4,  3.8,  3.6,  4.4,  2.7,  2.8,\n",
       "        3.4,  3. ,  3.2,  3.1,  2.8,  2.3])"
      ]
     },
     "execution_count": 7,
     "metadata": {},
     "output_type": "execute_result"
    }
   ],
   "source": [
    "X[:, 1]"
   ]
  },
  {
   "cell_type": "markdown",
   "metadata": {},
   "source": [
    "Extract the first five rows of the second column:"
   ]
  },
  {
   "cell_type": "code",
   "execution_count": 8,
   "metadata": {
    "collapsed": false
   },
   "outputs": [
    {
     "data": {
      "text/plain": [
       "array([ 2.6,  2.7,  3.1,  2.8,  2.2])"
      ]
     },
     "execution_count": 8,
     "metadata": {},
     "output_type": "execute_result"
    }
   ],
   "source": [
    "u = X[0:5:,1]\n",
    "u"
   ]
  },
  {
   "cell_type": "markdown",
   "metadata": {},
   "source": [
    "With `numpy` it is easy to apply an operation to all elements of an array.\n",
    "For example take the square root of each element."
   ]
  },
  {
   "cell_type": "code",
   "execution_count": 9,
   "metadata": {
    "collapsed": false
   },
   "outputs": [
    {
     "data": {
      "text/plain": [
       "array([ 1.61245155,  1.64316767,  1.76068169,  1.67332005,  1.4832397 ])"
      ]
     },
     "execution_count": 9,
     "metadata": {},
     "output_type": "execute_result"
    }
   ],
   "source": [
    "numpy.sqrt(u)"
   ]
  },
  {
   "cell_type": "markdown",
   "metadata": {},
   "source": [
    "Multiply each element by 2:"
   ]
  },
  {
   "cell_type": "code",
   "execution_count": 10,
   "metadata": {
    "collapsed": false
   },
   "outputs": [],
   "source": [
    "v = 2*u"
   ]
  },
  {
   "cell_type": "markdown",
   "metadata": {},
   "source": [
    "We can also perform various standard operations on vectors and matrices.\n",
    "For example add two vectors."
   ]
  },
  {
   "cell_type": "code",
   "execution_count": 11,
   "metadata": {
    "collapsed": false
   },
   "outputs": [
    {
     "data": {
      "text/plain": [
       "array([ 7.8,  8.1,  9.3,  8.4,  6.6])"
      ]
     },
     "execution_count": 11,
     "metadata": {},
     "output_type": "execute_result"
    }
   ],
   "source": [
    "u + v"
   ]
  },
  {
   "cell_type": "markdown",
   "metadata": {},
   "source": [
    "Or multiply them elementwise:"
   ]
  },
  {
   "cell_type": "code",
   "execution_count": 12,
   "metadata": {
    "collapsed": false
   },
   "outputs": [
    {
     "data": {
      "text/plain": [
       "array([ 13.52,  14.58,  19.22,  15.68,   9.68])"
      ]
     },
     "execution_count": 12,
     "metadata": {},
     "output_type": "execute_result"
    }
   ],
   "source": [
    "u * v"
   ]
  },
  {
   "cell_type": "markdown",
   "metadata": {},
   "source": [
    "Compute the dot product:"
   ]
  },
  {
   "cell_type": "code",
   "execution_count": 13,
   "metadata": {
    "collapsed": false
   },
   "outputs": [
    {
     "name": "stdout",
     "output_type": "stream",
     "text": [
      "72.68\n"
     ]
    }
   ],
   "source": [
    "print(numpy.dot(u, v))"
   ]
  },
  {
   "cell_type": "markdown",
   "metadata": {},
   "source": [
    "Scikit-learn\n",
    "------------\n",
    "\n",
    "This machine-learning library implements a number of basic learning algorithms and other useful functions for learning from data. It is integrated with `numpy` and uses `numpy` data structures.\n",
    "\n",
    "Most of the learning algorithms have a similar interface. This is how we usually work.\n",
    "\n",
    "First import models:"
   ]
  },
  {
   "cell_type": "code",
   "execution_count": 14,
   "metadata": {
    "collapsed": false
   },
   "outputs": [],
   "source": [
    "from sklearn.linear_model import SGDRegressor"
   ]
  },
  {
   "cell_type": "markdown",
   "metadata": {},
   "source": [
    "Now we initialize a model, specifying some options: in this case, a linear model trained via stochastic gradient descent, with 10 iterations and squared loss function."
   ]
  },
  {
   "cell_type": "code",
   "execution_count": 15,
   "metadata": {
    "collapsed": false
   },
   "outputs": [],
   "source": [
    "model = SGDRegressor(n_iter=3, loss='squared_loss', random_state=123)"
   ]
  },
  {
   "cell_type": "markdown",
   "metadata": {},
   "source": [
    "Training models is done with the function `fit`. It accepts two arguments: inputs and targets. \n",
    "Next, we will learn to predict the fourth feature (Petal Width) from the first three. "
   ]
  },
  {
   "cell_type": "code",
   "execution_count": 16,
   "metadata": {
    "collapsed": false
   },
   "outputs": [
    {
     "data": {
      "text/plain": [
       "array([ 1.2,  1.3,  0.1,  2. ,  1. ,  2.3,  1.4,  1.5,  1.7,  0.1,  0.3,\n",
       "        1.8,  2.1,  1.2,  0.2,  0.2,  0.3,  1.5,  2.3,  2.4,  2. ,  1.9,\n",
       "        2. ,  0.2,  1.8,  2. ,  2.3,  2.1,  1.8,  1.8,  1.6,  1.5,  1. ,\n",
       "        2.1,  0.2,  0.2,  0.2,  1.3,  2.4,  0.3,  0.2,  0.4,  1.8,  2.4,\n",
       "        1.6,  1.7,  2.3,  0.1,  1.3,  1.3])"
      ]
     },
     "execution_count": 16,
     "metadata": {},
     "output_type": "execute_result"
    }
   ],
   "source": [
    "X[:,3]"
   ]
  },
  {
   "cell_type": "code",
   "execution_count": 17,
   "metadata": {
    "collapsed": false
   },
   "outputs": [
    {
     "data": {
      "text/plain": [
       "SGDRegressor(alpha=0.0001, average=False, epsilon=0.1, eta0=0.01,\n",
       "       fit_intercept=True, l1_ratio=0.15, learning_rate='invscaling',\n",
       "       loss='squared_loss', n_iter=3, penalty='l2', power_t=0.25,\n",
       "       random_state=123, shuffle=True, verbose=0, warm_start=False)"
      ]
     },
     "execution_count": 17,
     "metadata": {},
     "output_type": "execute_result"
    }
   ],
   "source": [
    "X_reg = X[:,0:3]\n",
    "Y_reg = X[:,3]\n",
    "model.fit(X_reg, Y_reg)"
   ]
  },
  {
   "cell_type": "markdown",
   "metadata": {},
   "source": [
    "Once the model is trained, we can predict targets for new data. Let's load the developement data:"
   ]
  },
  {
   "cell_type": "code",
   "execution_count": 18,
   "metadata": {
    "collapsed": false
   },
   "outputs": [],
   "source": [
    "X_dev, Y_dev = zip(*load_table('iris-dev.txt'))\n",
    "X_dev = numpy.array(X_dev, dtype='float')\n",
    "X_reg_dev = X_dev[:,0:3]\n",
    "Y_reg_dev = X_dev[:,3]"
   ]
  },
  {
   "cell_type": "markdown",
   "metadata": {},
   "source": [
    "And get predictions for X_dev:"
   ]
  },
  {
   "cell_type": "code",
   "execution_count": 19,
   "metadata": {
    "collapsed": false
   },
   "outputs": [
    {
     "name": "stdout",
     "output_type": "stream",
     "text": [
      "[ 0.58151673  0.59569244  1.77934487  1.76217756  2.23902208]\n"
     ]
    }
   ],
   "source": [
    "Y_dev_pred = model.predict(X_reg_dev)\n",
    "print(Y_dev_pred[0:5])"
   ]
  },
  {
   "cell_type": "markdown",
   "metadata": {},
   "source": [
    "Calculating Mean Squared Error is easy:"
   ]
  },
  {
   "cell_type": "code",
   "execution_count": 20,
   "metadata": {
    "collapsed": false
   },
   "outputs": [
    {
     "data": {
      "text/plain": [
       "0.091871416844427484"
      ]
     },
     "execution_count": 20,
     "metadata": {},
     "output_type": "execute_result"
    }
   ],
   "source": [
    "numpy.mean((Y_reg_dev-Y_dev_pred)**2)"
   ]
  },
  {
   "cell_type": "markdown",
   "metadata": {},
   "source": [
    "Let's also compute Mean Absolute Error:"
   ]
  },
  {
   "cell_type": "code",
   "execution_count": 21,
   "metadata": {
    "collapsed": false
   },
   "outputs": [
    {
     "data": {
      "text/plain": [
       "0.26103884766184843"
      ]
     },
     "execution_count": 21,
     "metadata": {},
     "output_type": "execute_result"
    }
   ],
   "source": [
    "def mae(y, y_pred):\n",
    "    return numpy.mean(numpy.abs(y-y_pred))\n",
    "mae(Y_reg_dev, Y_dev_pred)"
   ]
  },
  {
   "cell_type": "markdown",
   "metadata": {},
   "source": [
    "Our model could be doing better. Let's check how many iterations get the lowest error on development set.\n",
    "\n",
    "By setting `n_iter=1` and `warm_start=True` will can train the model for one iteration, check how well it does on development data, train it for another iteration, and so on."
   ]
  },
  {
   "cell_type": "code",
   "execution_count": 44,
   "metadata": {
    "collapsed": false
   },
   "outputs": [
    {
     "data": {
      "text/plain": [
       "[(1, 0.31290779162935706),\n",
       " (2, 0.25029795956552092),\n",
       " (3, 0.21613297541917692),\n",
       " (4, 0.19751270299118906),\n",
       " (5, 0.18683603975743351),\n",
       " (6, 0.18414052513137272),\n",
       " (7, 0.18332804855423379),\n",
       " (8, 0.18257352525396076),\n",
       " (9, 0.18236616249165505),\n",
       " (10, 0.18208030850262652),\n",
       " (11, 0.18195931132258111),\n",
       " (12, 0.18174293251127513),\n",
       " (13, 0.18146932455381409),\n",
       " (14, 0.18116232937508045),\n",
       " (15, 0.18083683008845935),\n",
       " (16, 0.18050210162735658),\n",
       " (17, 0.18016390850884012),\n",
       " (18, 0.17982581819659049),\n",
       " (19, 0.17949002336311715),\n",
       " (20, 0.17915785668174777),\n",
       " (21, 0.17883011311656774),\n",
       " (22, 0.17850725169008164),\n",
       " (23, 0.17818952179399747),\n",
       " (24, 0.17787704225787437),\n",
       " (25, 0.17757006820902813),\n",
       " (26, 0.17728878033460863),\n",
       " (27, 0.17701234460295051),\n",
       " (28, 0.17674070820830534),\n",
       " (29, 0.17647380642718222),\n",
       " (30, 0.17621156764489843),\n",
       " (31, 0.17595391649235087),\n",
       " (32, 0.17570077579980861),\n",
       " (33, 0.17545206781024483),\n",
       " (34, 0.1752077149292543),\n",
       " (35, 0.17499477115286069),\n",
       " (36, 0.17478617410300898),\n",
       " (37, 0.17458122367343715),\n",
       " (38, 0.17437985471146458),\n",
       " (39, 0.17418200309915929),\n",
       " (40, 0.17398760578658401),\n",
       " (41, 0.17379660080504233),\n",
       " (42, 0.17363641322973272),\n",
       " (43, 0.17351226098803096),\n",
       " (44, 0.17339023497859604),\n",
       " (45, 0.17327029708330532),\n",
       " (46, 0.17317416659135904),\n",
       " (47, 0.17309111128607976),\n",
       " (48, 0.17300943528211651),\n",
       " (49, 0.1729291139170111)]"
      ]
     },
     "execution_count": 44,
     "metadata": {},
     "output_type": "execute_result"
    }
   ],
   "source": [
    "M = SGDRegressor(n_iter=1, loss='squared_loss', random_state=99, warm_start=True)\n",
    "error = []\n",
    "for i in range(1, 50):\n",
    "    M.fit(X_reg, Y_reg)\n",
    "    Y_dev_pred = M.predict(X_reg_dev)\n",
    "    error.append((i, mae(Y_reg_dev, Y_dev_pred)))\n",
    "error"
   ]
  },
  {
   "cell_type": "markdown",
   "metadata": {},
   "source": [
    "Pylab\n",
    "-----\n",
    "\n",
    "It would be nice to plot this. We can do this with the library `pylab`. We can activate pylab inside an IPython notebook like this:"
   ]
  },
  {
   "cell_type": "code",
   "execution_count": 45,
   "metadata": {
    "collapsed": false
   },
   "outputs": [
    {
     "name": "stdout",
     "output_type": "stream",
     "text": [
      "Populating the interactive namespace from numpy and matplotlib\n"
     ]
    }
   ],
   "source": [
    "%pylab --no-import-all inline "
   ]
  },
  {
   "cell_type": "code",
   "execution_count": 46,
   "metadata": {
    "collapsed": false
   },
   "outputs": [
    {
     "data": {
      "text/plain": [
       "[<matplotlib.lines.Line2D at 0x7fb784cb1518>]"
      ]
     },
     "execution_count": 46,
     "metadata": {},
     "output_type": "execute_result"
    },
    {
     "data": {
      "image/png": "[encoded data removed]",
      "text/plain": [
       "<matplotlib.figure.Figure at 0x7fb784cb1f98>"
      ]
     },
     "metadata": {},
     "output_type": "display_data"
    }
   ],
   "source": [
    "pylab.figure(figsize(9,6))\n",
    "pylab.rcParams['font.size'] = 18\n",
    "pylab.xlabel(\"Iterations\")\n",
    "pylab.ylabel(\"Mean Absolute Error\")\n",
    "# We need x and y coordinates\n",
    "x, y = zip(*error)\n",
    "pylab.xlim((0, max(x)))\n",
    "# Add points\n",
    "pylab.scatter(x, y, alpha=0.5)\n",
    "# Connect them with line\n",
    "pylab.plot(x, y)"
   ]
  },
  {
   "cell_type": "markdown",
   "metadata": {},
   "source": [
    "## Classification\n",
    "\n",
    "Scikit learn also has many different models for classification. Let's use the Perceptron classifier model to classify the iris dataset."
   ]
  },
  {
   "cell_type": "code",
   "execution_count": 47,
   "metadata": {
    "collapsed": false
   },
   "outputs": [
    {
     "data": {
      "text/plain": [
       "Perceptron(alpha=0.0001, class_weight=None, eta0=1.0, fit_intercept=True,\n",
       "      n_iter=5, n_jobs=1, penalty=None, random_state=0, shuffle=True,\n",
       "      verbose=0, warm_start=False)"
      ]
     },
     "execution_count": 47,
     "metadata": {},
     "output_type": "execute_result"
    }
   ],
   "source": [
    "from sklearn.linear_model import Perceptron\n",
    "model = Perceptron(n_iter=5)\n",
    "model.fit(X, Y)"
   ]
  },
  {
   "cell_type": "code",
   "execution_count": 48,
   "metadata": {
    "collapsed": false
   },
   "outputs": [],
   "source": [
    "Y_dev_pred = model.predict(X_dev)"
   ]
  },
  {
   "cell_type": "markdown",
   "metadata": {},
   "source": [
    "For classification, we will compute the error rate:"
   ]
  },
  {
   "cell_type": "code",
   "execution_count": 49,
   "metadata": {
    "collapsed": false
   },
   "outputs": [
    {
     "data": {
      "text/plain": [
       "0.68000000000000005"
      ]
     },
     "execution_count": 49,
     "metadata": {},
     "output_type": "execute_result"
    }
   ],
   "source": [
    "numpy.mean(Y_dev_pred != Y_dev)"
   ]
  },
  {
   "cell_type": "markdown",
   "metadata": {},
   "source": [
    "This is terrible. Let's try varying the number of iterations."
   ]
  },
  {
   "cell_type": "code",
   "execution_count": 50,
   "metadata": {
    "collapsed": false
   },
   "outputs": [
    {
     "data": {
      "text/plain": [
       "[<matplotlib.lines.Line2D at 0x7fb784a3a668>]"
      ]
     },
     "execution_count": 50,
     "metadata": {},
     "output_type": "execute_result"
    },
    {
     "data": {
      "image/png": "[encoded data removed]",
      "text/plain": [
       "<matplotlib.figure.Figure at 0x7fb784a3a940>"
      ]
     },
     "metadata": {},
     "output_type": "display_data"
    }
   ],
   "source": [
    "error = []\n",
    "M = Perceptron(n_iter=1, random_state=321, warm_start=True)\n",
    "for i in range(1, 100):\n",
    "    M.fit(X, Y)\n",
    "    Y_dev_pred = M.predict(X_dev)\n",
    "    error.append((i, numpy.mean(Y_dev != Y_dev_pred)))\n",
    "pylab.figure(figsize(9,6))\n",
    "pylab.rcParams['font.size'] = 18\n",
    "pylab.xlabel(\"Iterations\")\n",
    "pylab.ylabel(\"Error rate\")\n",
    "# We need x and y coordinates\n",
    "x, y = zip(*error)\n",
    "#pylab.xlim((0, max(x)))\n",
    "# Add points\n",
    "pylab.scatter(x, y, alpha=0.5)\n",
    "# Connect them with line\n",
    "pylab.plot(x, y)"
   ]
  },
  {
   "cell_type": "markdown",
   "metadata": {},
   "source": [
    "On this small dataset, Perceptron is a bit erratic."
   ]
  },
  {
   "cell_type": "markdown",
   "metadata": {},
   "source": [
    "Exercises\n",
    "---------\n",
    "\n",
    "### Data manipulation\n"
   ]
  },
  {
   "cell_type": "markdown",
   "metadata": {},
   "source": [
    "Let's load the boston house price dataset included with sklearn. \n",
    "The targets are in the array `boston.target` and the inputs in the array `boston.data`."
   ]
  },
  {
   "cell_type": "code",
   "execution_count": 117,
   "metadata": {
    "collapsed": false
   },
   "outputs": [
    {
     "name": "stdout",
     "output_type": "stream",
     "text": [
      "Boston House Prices dataset\n",
      "\n",
      "Notes\n",
      "------\n",
      "Data Set Characteristics:  \n",
      "\n",
      "    :Number of Instances: 506 \n",
      "\n",
      "    :Number of Attributes: 13 numeric/categorical predictive\n",
      "    \n",
      "    :Median Value (attribute 14) is usually the target\n",
      "\n",
      "    :Attribute Information (in order):\n",
      "        - CRIM     per capita crime rate by town\n",
      "        - ZN       proportion of residential land zoned for lots over 25,000 sq.ft.\n",
      "        - INDUS    proportion of non-retail business acres per town\n",
      "        - CHAS     Charles River dummy variable (= 1 if tract bounds river; 0 otherwise)\n",
      "        - NOX      nitric oxides concentration (parts per 10 million)\n",
      "        - RM       average number of rooms per dwelling\n",
      "        - AGE      proportion of owner-occupied units built prior to 1940\n",
      "        - DIS      weighted distances to five Boston employment centres\n",
      "        - RAD      index of accessibility to radial highways\n",
      "        - TAX      full-value property-tax rate per $10,000\n",
      "        - PTRATIO  pupil-teacher ratio by town\n",
      "        - B        1000(Bk - 0.63)^2 where Bk is the proportion of blacks by town\n",
      "        - LSTAT    % lower status of the population\n",
      "        - MEDV     Median value of owner-occupied homes in $1000's\n",
      "\n",
      "    :Missing Attribute Values: None\n",
      "\n",
      "    :Creator: Harrison, D. and Rubinfeld, D.L.\n",
      "\n",
      "This is a copy of UCI ML housing dataset.\n",
      "http://archive.ics.uci.edu/ml/datasets/Housing\n",
      "\n",
      "\n",
      "This dataset was taken from the StatLib library which is maintained at Carnegie Mellon University.\n",
      "\n",
      "The Boston house-price data of Harrison, D. and Rubinfeld, D.L. 'Hedonic\n",
      "prices and the demand for clean air', J. Environ. Economics & Management,\n",
      "vol.5, 81-102, 1978.   Used in Belsley, Kuh & Welsch, 'Regression diagnostics\n",
      "...', Wiley, 1980.   N.B. Various transformations are used in the table on\n",
      "pages 244-261 of the latter.\n",
      "\n",
      "The Boston house-price data has been used in many machine learning papers that address regression\n",
      "problems.   \n",
      "     \n",
      "**References**\n",
      "\n",
      "   - Belsley, Kuh & Welsch, 'Regression diagnostics: Identifying Influential Data and Sources of Collinearity', Wiley, 1980. 244-261.\n",
      "   - Quinlan,R. (1993). Combining Instance-Based and Model-Based Learning. In Proceedings on the Tenth International Conference of Machine Learning, 236-243, University of Massachusetts, Amherst. Morgan Kaufmann.\n",
      "   - many more! (see http://archive.ics.uci.edu/ml/datasets/Housing)\n",
      "\n"
     ]
    }
   ],
   "source": [
    "from sklearn.datasets import load_boston\n",
    "boston = load_boston()\n",
    "print(boston['DESCR'])"
   ]
  },
  {
   "cell_type": "code",
   "execution_count": 41,
   "metadata": {
    "collapsed": false
   },
   "outputs": [
    {
     "data": {
      "text/plain": [
       "(506,)"
      ]
     },
     "execution_count": 41,
     "metadata": {},
     "output_type": "execute_result"
    }
   ],
   "source": [
    "boston.target.shape"
   ]
  },
  {
   "cell_type": "code",
   "execution_count": 42,
   "metadata": {
    "collapsed": false
   },
   "outputs": [
    {
     "data": {
      "text/plain": [
       "(506, 13)"
      ]
     },
     "execution_count": 42,
     "metadata": {},
     "output_type": "execute_result"
    }
   ],
   "source": [
    "boston.data.shape"
   ]
  },
  {
   "cell_type": "markdown",
   "metadata": {},
   "source": [
    "- Extract the first 350 examples for training and store them in `X` and `Y`.\n",
    "- Store the remaining examples in `X_dev` and `Y_dev`"
   ]
  },
  {
   "cell_type": "markdown",
   "metadata": {},
   "source": [
    "### Modeling\n",
    "\n",
    "We will track the performance of SGDRegressor on this dataset over a 100 iterations. We will repeat this for several different values of training rate. Use the following initialization, and vary the value of learning rate by specifying `eta0`."
   ]
  },
  {
   "cell_type": "code",
   "execution_count": 144,
   "metadata": {
    "collapsed": false
   },
   "outputs": [],
   "source": [
    "M = SGDRegressor(n_iter=1, \n",
    "                 warm_start=True, \n",
    "                 loss='squared_loss',\n",
    "                 random_state=123,\n",
    "                 learning_rate='constant',\n",
    "                 eta0=0.01)"
   ]
  },
  {
   "cell_type": "markdown",
   "metadata": {},
   "source": [
    "Find a constant learning rate which does not cause the model to diverge."
   ]
  },
  {
   "cell_type": "markdown",
   "metadata": {},
   "source": [
    "For small datasets, it's simpler and easier to just use the `LinearRegression` model from `sklearn.linear_model`. This model uses the specialized linear regression formula to find the best weights\n",
    "instead of a generic algorithm like stochastic gradient descent.\n",
    "\n",
    "- Fit the LinearRegression model on the iris and boston dataset, and report error on development data."
   ]
  },
  {
   "cell_type": "code",
   "execution_count": 145,
   "metadata": {
    "collapsed": true
   },
   "outputs": [],
   "source": [
    "from sklearn.linear_model import LinearRegression"
   ]
  },
  {
   "cell_type": "code",
   "execution_count": 147,
   "metadata": {
    "collapsed": false
   },
   "outputs": [
    {
     "name": "stdout",
     "output_type": "stream",
     "text": [
      "14.6467635856\n"
     ]
    }
   ],
   "source": []
  },
  {
   "cell_type": "code",
   "execution_count": null,
   "metadata": {
    "collapsed": true
   },
   "outputs": [],
   "source": []
  },
  {
   "cell_type": "code",
   "execution_count": null,
   "metadata": {
    "collapsed": true
   },
   "outputs": [],
   "source": []
  }
 ],
 "metadata": {
  "kernelspec": {
   "display_name": "Python 3",
   "language": "python",
   "name": "python3"
  },
  "language_info": {
   "codemirror_mode": {
    "name": "ipython",
    "version": 3
   },
   "file_extension": ".py",
   "mimetype": "text/x-python",
   "name": "python",
   "nbconvert_exporter": "python",
   "pygments_lexer": "ipython3",
   "version": "3.4.3"
  }
 },
 "nbformat": 4,
 "nbformat_minor": 0
}
