{
 "metadata": {
  "name": ""
 },
 "nbformat": 3,
 "nbformat_minor": 0,
 "worksheets": [
  {
   "cells": [
    {
     "cell_type": "markdown",
     "metadata": {
      "slideshow": {
       "slide_type": "slide"
      }
     },
     "source": [
      "Quick introduction to `numpy` and `scikit-learn`\n",
      "================================================\n",
      "\n",
      "This IPython notebook is a brief introduction to useful Python libraries for working with data.\n",
      "CSV is an informal format for tabular data. Python's `csv` module is useful for loading datasets.\n",
      "\n",
      "Loading data\n",
      "------------\n",
      "\n",
      "We will define a function to load space-separated table of data, with any number of numeric columns, \n",
      "and a categorical last column. "
     ]
    },
    {
     "cell_type": "code",
     "collapsed": false,
     "input": [
      "from __future__ import division\n",
      "import csv\n",
      "\n",
      "def load_table(path):\n",
      "    reader = csv.reader(open(path), delimiter=' ')\n",
      "    # Return a list of data, where we convert each row to a pair.\n",
      "    return [ (row[0:-1], row[-1]) for row in reader ]\n",
      "    "
     ],
     "language": "python",
     "metadata": {
      "slideshow": {
       "slide_type": "slide"
      }
     },
     "outputs": [],
     "prompt_number": 2
    },
    {
     "cell_type": "markdown",
     "metadata": {
      "slideshow": {
       "slide_type": "-"
      }
     },
     "source": [
      "The function `load_table` returns a list of pairs. The function `zip` can convert between a list of pairs and a pair of lists:"
     ]
    },
    {
     "cell_type": "code",
     "collapsed": false,
     "input": [
      "a = [1,2,3] ; b = [4,5,6]\n",
      "c = zip(a,b)\n",
      "print c"
     ],
     "language": "python",
     "metadata": {},
     "outputs": [
      {
       "output_type": "stream",
       "stream": "stdout",
       "text": [
        "[(1, 4), (2, 5), (3, 6)]\n"
       ]
      }
     ],
     "prompt_number": 3
    },
    {
     "cell_type": "code",
     "collapsed": false,
     "input": [
      "x, y = zip(*c)\n",
      "print x\n",
      "print y"
     ],
     "language": "python",
     "metadata": {},
     "outputs": [
      {
       "output_type": "stream",
       "stream": "stdout",
       "text": [
        "(1, 2, 3)\n",
        "(4, 5, 6)\n"
       ]
      }
     ],
     "prompt_number": 4
    },
    {
     "cell_type": "markdown",
     "metadata": {},
     "source": [
      "Using `zip` and `load_table` we will load the last column into `Y`, and all the other columns in `X`."
     ]
    },
    {
     "cell_type": "code",
     "collapsed": false,
     "input": [
      "X, Y = zip(*load_table('iris-train.txt'))\n",
      "print X[0]\n",
      "print Y[0]"
     ],
     "language": "python",
     "metadata": {},
     "outputs": [
      {
       "output_type": "stream",
       "stream": "stdout",
       "text": [
        "['5.5', '2.6', '4.4', '1.2']\n",
        "versicolor\n"
       ]
      }
     ],
     "prompt_number": 17
    },
    {
     "cell_type": "markdown",
     "metadata": {},
     "source": [
      "The rows of `X` hold the numbers as strings. We want to convert the whole of `X` into a 2D array of `float`s.\n",
      "\n",
      "Numpy arrays\n",
      "------------\n",
      "\n",
      "\n",
      "With the library `numpy` we can work conveniently with such data. Let's convert X into an array:\n"
     ]
    },
    {
     "cell_type": "code",
     "collapsed": false,
     "input": [
      "import numpy as np\n",
      "X = np.array(X, dtype='float')\n",
      "X"
     ],
     "language": "python",
     "metadata": {},
     "outputs": [
      {
       "metadata": {},
       "output_type": "pyout",
       "prompt_number": 8,
       "text": [
        "array([[ 5.5,  2.6,  4.4,  1.2],\n",
        "       [ 5.6,  2.7,  4.2,  1.3],\n",
        "       [ 4.9,  3.1,  1.5,  0.1],\n",
        "       [ 5.6,  2.8,  4.9,  2. ],\n",
        "       [ 6. ,  2.2,  4. ,  1. ],\n",
        "       [ 7.7,  2.6,  6.9,  2.3],\n",
        "       [ 6.7,  3.1,  4.4,  1.4],\n",
        "       [ 5.6,  3. ,  4.5,  1.5],\n",
        "       [ 4.9,  2.5,  4.5,  1.7],\n",
        "       [ 4.9,  3.1,  1.5,  0.1],\n",
        "       [ 4.6,  3.4,  1.4,  0.3],\n",
        "       [ 6.7,  2.5,  5.8,  1.8],\n",
        "       [ 6.9,  3.1,  5.4,  2.1],\n",
        "       [ 5.7,  3. ,  4.2,  1.2],\n",
        "       [ 4.8,  3.4,  1.9,  0.2],\n",
        "       [ 5.1,  3.5,  1.4,  0.2],\n",
        "       [ 5.1,  3.5,  1.4,  0.3],\n",
        "       [ 5.4,  3. ,  4.5,  1.5],\n",
        "       [ 6.8,  3.2,  5.9,  2.3],\n",
        "       [ 6.7,  3.1,  5.6,  2.4],\n",
        "       [ 6.5,  3.2,  5.1,  2. ],\n",
        "       [ 5.8,  2.7,  5.1,  1.9],\n",
        "       [ 5.7,  2.5,  5. ,  2. ],\n",
        "       [ 4.6,  3.2,  1.4,  0.2],\n",
        "       [ 7.3,  2.9,  6.3,  1.8],\n",
        "       [ 7.7,  2.8,  6.7,  2. ],\n",
        "       [ 6.2,  3.4,  5.4,  2.3],\n",
        "       [ 7.1,  3. ,  5.9,  2.1],\n",
        "       [ 6.4,  3.1,  5.5,  1.8],\n",
        "       [ 6. ,  3. ,  4.8,  1.8],\n",
        "       [ 6. ,  2.7,  5.1,  1.6],\n",
        "       [ 5.9,  3. ,  4.2,  1.5],\n",
        "       [ 5. ,  2.3,  3.3,  1. ],\n",
        "       [ 7.6,  3. ,  6.6,  2.1],\n",
        "       [ 4.8,  3.4,  1.6,  0.2],\n",
        "       [ 4.7,  3.2,  1.3,  0.2],\n",
        "       [ 5.4,  3.7,  1.5,  0.2],\n",
        "       [ 6.1,  2.8,  4. ,  1.3],\n",
        "       [ 6.3,  3.4,  5.6,  2.4],\n",
        "       [ 5.7,  3.8,  1.7,  0.3],\n",
        "       [ 5. ,  3.6,  1.4,  0.2],\n",
        "       [ 5.7,  4.4,  1.5,  0.4],\n",
        "       [ 6.3,  2.7,  4.9,  1.8],\n",
        "       [ 5.8,  2.8,  5.1,  2.4],\n",
        "       [ 6. ,  3.4,  4.5,  1.6],\n",
        "       [ 6.7,  3. ,  5. ,  1.7],\n",
        "       [ 6.4,  3.2,  5.3,  2.3],\n",
        "       [ 4.9,  3.1,  1.5,  0.1],\n",
        "       [ 5.7,  2.8,  4.1,  1.3],\n",
        "       [ 6.3,  2.3,  4.4,  1.3]])"
       ]
      }
     ],
     "prompt_number": 8
    },
    {
     "cell_type": "markdown",
     "metadata": {},
     "source": [
      "We can easily extract columns and rows.\n",
      "Extract first row:"
     ]
    },
    {
     "cell_type": "code",
     "collapsed": false,
     "input": [
      "X[0, :]"
     ],
     "language": "python",
     "metadata": {},
     "outputs": [
      {
       "metadata": {},
       "output_type": "pyout",
       "prompt_number": 9,
       "text": [
        "array([ 5.5,  2.6,  4.4,  1.2])"
       ]
      }
     ],
     "prompt_number": 9
    },
    {
     "cell_type": "markdown",
     "metadata": {},
     "source": [
      "Extract second column:"
     ]
    },
    {
     "cell_type": "code",
     "collapsed": false,
     "input": [
      "X[:, 1]"
     ],
     "language": "python",
     "metadata": {},
     "outputs": [
      {
       "metadata": {},
       "output_type": "pyout",
       "prompt_number": 10,
       "text": [
        "array([ 2.6,  2.7,  3.1,  2.8,  2.2,  2.6,  3.1,  3. ,  2.5,  3.1,  3.4,\n",
        "        2.5,  3.1,  3. ,  3.4,  3.5,  3.5,  3. ,  3.2,  3.1,  3.2,  2.7,\n",
        "        2.5,  3.2,  2.9,  2.8,  3.4,  3. ,  3.1,  3. ,  2.7,  3. ,  2.3,\n",
        "        3. ,  3.4,  3.2,  3.7,  2.8,  3.4,  3.8,  3.6,  4.4,  2.7,  2.8,\n",
        "        3.4,  3. ,  3.2,  3.1,  2.8,  2.3])"
       ]
      }
     ],
     "prompt_number": 10
    },
    {
     "cell_type": "markdown",
     "metadata": {},
     "source": [
      "Extract the first five rows of the second column:"
     ]
    },
    {
     "cell_type": "code",
     "collapsed": false,
     "input": [
      "u = X[0:5:,1]\n",
      "u"
     ],
     "language": "python",
     "metadata": {},
     "outputs": [
      {
       "metadata": {},
       "output_type": "pyout",
       "prompt_number": 11,
       "text": [
        "array([ 2.6,  2.7,  3.1,  2.8,  2.2])"
       ]
      }
     ],
     "prompt_number": 11
    },
    {
     "cell_type": "markdown",
     "metadata": {},
     "source": [
      "With `numpy` it is easy to apply an operation to all elements of an array.\n",
      "For example take the square root of each element."
     ]
    },
    {
     "cell_type": "code",
     "collapsed": false,
     "input": [
      "np.sqrt(u)"
     ],
     "language": "python",
     "metadata": {},
     "outputs": [
      {
       "metadata": {},
       "output_type": "pyout",
       "prompt_number": 12,
       "text": [
        "array([ 1.61245155,  1.64316767,  1.76068169,  1.67332005,  1.4832397 ])"
       ]
      }
     ],
     "prompt_number": 12
    },
    {
     "cell_type": "markdown",
     "metadata": {},
     "source": [
      "Multiply each element by 2:"
     ]
    },
    {
     "cell_type": "code",
     "collapsed": false,
     "input": [
      "v = 2*u"
     ],
     "language": "python",
     "metadata": {},
     "outputs": [],
     "prompt_number": 13
    },
    {
     "cell_type": "markdown",
     "metadata": {},
     "source": [
      "We can also perform various standard operations on vectors and matrices.\n",
      "For example add two vectors."
     ]
    },
    {
     "cell_type": "code",
     "collapsed": false,
     "input": [
      "u + v"
     ],
     "language": "python",
     "metadata": {},
     "outputs": [
      {
       "metadata": {},
       "output_type": "pyout",
       "prompt_number": 245,
       "text": [
        "array([ 7.8,  8.1,  9.3,  8.4,  6.6])"
       ]
      }
     ],
     "prompt_number": 245
    },
    {
     "cell_type": "markdown",
     "metadata": {},
     "source": [
      "Or multiply them elementwise:"
     ]
    },
    {
     "cell_type": "code",
     "collapsed": false,
     "input": [
      "u * v"
     ],
     "language": "python",
     "metadata": {},
     "outputs": [
      {
       "metadata": {},
       "output_type": "pyout",
       "prompt_number": 246,
       "text": [
        "array([ 13.52,  14.58,  19.22,  15.68,   9.68])"
       ]
      }
     ],
     "prompt_number": 246
    },
    {
     "cell_type": "markdown",
     "metadata": {},
     "source": [
      "Compute the dot product:"
     ]
    },
    {
     "cell_type": "code",
     "collapsed": false,
     "input": [
      "print np.dot(u, v)"
     ],
     "language": "python",
     "metadata": {},
     "outputs": [
      {
       "output_type": "stream",
       "stream": "stdout",
       "text": [
        "72.68\n"
       ]
      }
     ],
     "prompt_number": 14
    },
    {
     "cell_type": "markdown",
     "metadata": {},
     "source": [
      "Scikit-learn\n",
      "------------\n",
      "\n",
      "This machine-learning library implements a number of basic learning algorithms and other useful functions for learning from data. It is integrated with `numpy` and uses `numpy` data structures.\n",
      "\n",
      "Most of the learning algorithms have a similar interface. This is how we usually work.\n",
      "\n",
      "First import models:"
     ]
    },
    {
     "cell_type": "code",
     "collapsed": false,
     "input": [
      "from sklearn.linear_model import Perceptron, LinearRegression"
     ],
     "language": "python",
     "metadata": {},
     "outputs": [],
     "prompt_number": 15
    },
    {
     "cell_type": "markdown",
     "metadata": {},
     "source": [
      "Now we initialize a model, specifying some options: in this case, the perceptron model with 10 iterations."
     ]
    },
    {
     "cell_type": "code",
     "collapsed": false,
     "input": [
      "model = Perceptron(n_iter=20)"
     ],
     "language": "python",
     "metadata": {},
     "outputs": [],
     "prompt_number": 16
    },
    {
     "cell_type": "markdown",
     "metadata": {},
     "source": [
      "Training models is done with the function `fit`. It accepts two arguments: inputs and targets."
     ]
    },
    {
     "cell_type": "code",
     "collapsed": false,
     "input": [
      "model.fit(X, Y)"
     ],
     "language": "python",
     "metadata": {},
     "outputs": [
      {
       "metadata": {},
       "output_type": "pyout",
       "prompt_number": 18,
       "text": [
        "Perceptron(alpha=0.0001, class_weight=None, eta0=1.0, fit_intercept=True,\n",
        "      n_iter=20, n_jobs=1, penalty=None, random_state=0, shuffle=False,\n",
        "      verbose=0, warm_start=False)"
       ]
      }
     ],
     "prompt_number": 18
    },
    {
     "cell_type": "markdown",
     "metadata": {},
     "source": [
      "Once the model is trained, we can predict targets for new data. Let's load the developement data:"
     ]
    },
    {
     "cell_type": "code",
     "collapsed": false,
     "input": [
      "X_dev, Y_dev = zip(*load_table('iris-dev.txt'))\n",
      "X_dev = np.array(X_dev, dtype='float')"
     ],
     "language": "python",
     "metadata": {},
     "outputs": [],
     "prompt_number": 19
    },
    {
     "cell_type": "markdown",
     "metadata": {},
     "source": [
      "And get predictions for X_dev:"
     ]
    },
    {
     "cell_type": "code",
     "collapsed": false,
     "input": [
      "Y_dev_pred = model.predict(X_dev)\n",
      "print Y_dev_pred[0:5]"
     ],
     "language": "python",
     "metadata": {},
     "outputs": [
      {
       "output_type": "stream",
       "stream": "stdout",
       "text": [
        "['setosa' 'setosa' 'versicolor' 'versicolor' 'versicolor']\n"
       ]
      }
     ],
     "prompt_number": 20
    },
    {
     "cell_type": "markdown",
     "metadata": {},
     "source": [
      "Calculating the error rate is easy:"
     ]
    },
    {
     "cell_type": "code",
     "collapsed": false,
     "input": [
      "print np.sum(Y_dev != Y_dev_pred)/len(Y_dev)"
     ],
     "language": "python",
     "metadata": {},
     "outputs": [
      {
       "output_type": "stream",
       "stream": "stdout",
       "text": [
        "0.44\n"
       ]
      }
     ],
     "prompt_number": 21
    },
    {
     "cell_type": "markdown",
     "metadata": {},
     "source": [
      "The module sklearn.metrics implements a number of other evaluation metrics, such as accuracy, various versions of precision, recall, F1 score etc."
     ]
    },
    {
     "cell_type": "code",
     "collapsed": false,
     "input": [
      "from sklearn.metrics import *\n",
      "print 1-accuracy_score(Y_dev, Y_dev_pred)"
     ],
     "language": "python",
     "metadata": {},
     "outputs": [
      {
       "output_type": "stream",
       "stream": "stdout",
       "text": [
        "0.44\n"
       ]
      }
     ],
     "prompt_number": 22
    },
    {
     "cell_type": "markdown",
     "metadata": {},
     "source": [
      "Our model is not doing well. Let's check how many iterations get the lowest error rate on development set."
     ]
    },
    {
     "cell_type": "code",
     "collapsed": false,
     "input": [
      "rates = []\n",
      "for i in range(20, 210, 10):\n",
      "    M = Perceptron(n_iter=i)\n",
      "    M.fit(X, Y)\n",
      "    Y_dev_pred = M.predict(X_dev)\n",
      "    rates.append((i,1-accuracy_score(Y_dev, Y_dev_pred)))\n",
      "    \n",
      "for i,r in rates:\n",
      "        print i, r\n"
     ],
     "language": "python",
     "metadata": {},
     "outputs": [
      {
       "output_type": "stream",
       "stream": "stdout",
       "text": [
        "20 0.44\n",
        "30 0.62\n",
        "40 0.7\n",
        "50 0.38\n",
        "60 0.26\n",
        "70 0.32\n",
        "80 0.32\n",
        "90 0.26\n",
        "100 0.28\n",
        "110 0.32\n",
        "120 0.64\n",
        "130 0.3\n",
        "140 0.3\n",
        "150 0.3\n",
        "160 0.3\n",
        "170 0.3\n",
        "180 0.26\n",
        "190 0.28\n",
        "200 0.28\n"
       ]
      }
     ],
     "prompt_number": 23
    },
    {
     "cell_type": "markdown",
     "metadata": {},
     "source": [
      "Pylab\n",
      "-----\n",
      "\n",
      "It would be nice to plot this. We can do this with the library `pylab`. We can activate pylab inside an IPython notebook like this:"
     ]
    },
    {
     "cell_type": "code",
     "collapsed": false,
     "input": [
      "%pylab --no-import-all inline "
     ],
     "language": "python",
     "metadata": {},
     "outputs": [
      {
       "output_type": "stream",
       "stream": "stdout",
       "text": [
        "Populating the interactive namespace from numpy and matplotlib\n"
       ]
      }
     ],
     "prompt_number": 256
    },
    {
     "cell_type": "code",
     "collapsed": false,
     "input": [
      "pylab.figure(figsize(9,6))\n",
      "pylab.rcParams['font.size'] = 18\n",
      "pylab.xlabel(\"Iterations\")\n",
      "pylab.ylabel(\"Error rate\")\n",
      "# Make sure y axis starts at 0\n",
      "pylab.ylim((0.0,0.7))\n",
      "# We need x and y coordinates\n",
      "x, y = zip(*rates)\n",
      "# Add points\n",
      "pylab.scatter(x, y, s=150)\n",
      "# Connect them with line\n",
      "pylab.plot(x, y, linewidth=2)"
     ],
     "language": "python",
     "metadata": {},
     "outputs": [
      {
       "metadata": {},
       "output_type": "pyout",
       "prompt_number": 257,
       "text": [
        "[<matplotlib.lines.Line2D at 0x7fafe1222790>]"
       ]
      },
      {
       "metadata": {},
       "output_type": "display_data",
       "png": "[encoded data removed]",
       "text": [
        "<matplotlib.figure.Figure at 0x7fafe0ed5390>"
       ]
      }
     ],
     "prompt_number": 257
    },
    {
     "cell_type": "markdown",
     "metadata": {},
     "source": [
      "Exercises\n",
      "---------\n",
      "\n",
      "**Data manipulation**\n",
      "\n",
      "- Extract colums 1 and 2 (sepal length and width) from the iris training dataset and convert \n",
      "  them to a 2D array to use as input. \n",
      "- Extract column 3 (petal length) and convert it to a 1D array to use as target for regression.\n",
      "- Do the same for the development data\n",
      "\n",
      "**Training models**\n",
      "\n",
      "- Initialize a LinearRegression from sklearn.linear_models, \n",
      "- Train it on the inputs and targets from training data\n",
      "\n",
      "**Prediction and evaluation**\n",
      "\n",
      "- Use trained linear regression model to predict targets for develpment data. \n",
      "- Compute mean squared error and mean absolute error.\n",
      "\n",
      "\n"
     ]
    }
   ],
   "metadata": {}
  }
 ]
}