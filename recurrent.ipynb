{
 "metadata": {
  "name": "",
  "signature": "sha256:5782ac1721d4e8f5b5e15a5552efc343b1834c2671cec48cecc314cfd6894adc"
 },
 "nbformat": 3,
 "nbformat_minor": 0,
 "worksheets": [
  {
   "cells": [
    {
     "cell_type": "markdown",
     "metadata": {},
     "source": [
      "# Simple Recurrent Nets\n",
      "\n",
      "SRN are one of the simplest types of recurrent networks. The formula for an SRN is the following:\n",
      "$$\n",
      "h_t = \\sigma(Wh_{t-1} + Ux_t + b)\n",
      "$$\n",
      "where $h_t$ is the state vector of activations of the hidden layer at time $t$ , and $x_t$ is the input at time $t$. The matrices W and U are the weights. The bias $b$ is often omitted.\n",
      "\n",
      "As a warm-up we will define an SRN from scratch. "
     ]
    },
    {
     "cell_type": "markdown",
     "metadata": {},
     "source": [
      "## Exercise 1\n",
      "Define function `recur` which implements a single step of the simple recurrent network computation. It takes the following arguments:\n",
      "\n",
      "- weights W (matrix)\n",
      "- weights U (matrix)\n",
      "- bias b (vector)\n",
      "- previous state h_prev (vector)\n",
      "- input x (vector)\n",
      "\n",
      "and returns the new state. For this exercise use a linear activation instead of a sigmoid. Use numpy for matrix and vector operations."
     ]
    },
    {
     "cell_type": "code",
     "collapsed": false,
     "input": [
      "import numpy"
     ],
     "language": "python",
     "metadata": {},
     "outputs": [],
     "prompt_number": 1
    },
    {
     "cell_type": "code",
     "collapsed": false,
     "input": [
      "def recur(W, U, b, x, h_prev):\n",
      "    #-------------------------------------------------\n",
      "    return W.dot(h_prev) + U.dot(x) + b"
     ],
     "language": "python",
     "metadata": {},
     "outputs": [],
     "prompt_number": 2
    },
    {
     "cell_type": "markdown",
     "metadata": {},
     "source": [
      "## Exercise 2\n",
      "Define a set of weights W,U,b which has the effect of copying the input data into the hidden layer, and ignores the previous state of the hidden layer.\n",
      "\n",
      "Test your function on the following data:"
     ]
    },
    {
     "cell_type": "code",
     "collapsed": false,
     "input": [
      "W = numpy.array([[0,0],[0,0]])\n",
      "U = numpy.array([[1,0],[0,1]])\n",
      "b = numpy.array([0,0])\n",
      "\n",
      "#---------------------------------\n",
      "X = numpy.array([[1,0],[-1,1],[1,-1]]).T\n",
      "h0 = numpy.array([0,0])"
     ],
     "language": "python",
     "metadata": {},
     "outputs": [],
     "prompt_number": 14
    },
    {
     "cell_type": "code",
     "collapsed": false,
     "input": [
      "h1 = recur(W,U,b,X[:,0],h0)\n",
      "h2 = recur(W,U,b,X[:,1],h1)\n",
      "h3 = recur(W,U,b,X[:,2],h2)\n",
      "print(numpy.vstack([h1,h2,h3]).T)"
     ],
     "language": "python",
     "metadata": {},
     "outputs": [
      {
       "output_type": "stream",
       "stream": "stdout",
       "text": [
        "[[ 1 -1  1]\n",
        " [ 0  1 -1]]\n"
       ]
      }
     ],
     "prompt_number": 15
    },
    {
     "cell_type": "markdown",
     "metadata": {},
     "source": [
      "What operation do these weights W,U,b implement?"
     ]
    },
    {
     "cell_type": "markdown",
     "metadata": {},
     "source": [
      "## Exercise 3\n",
      "\n",
      "Define weights W,U,b for the `recur` function which implement summation: that is given a sequence of 2D vectors, the final output of the network should be their elementwise sum."
     ]
    },
    {
     "cell_type": "code",
     "collapsed": false,
     "input": [
      "#......................................\n",
      "W = numpy.array([[1,0],[0,1]])\n",
      "U = numpy.array([[1,0],[0,1]])\n",
      "b = numpy.array([0,0])"
     ],
     "language": "python",
     "metadata": {},
     "outputs": [],
     "prompt_number": 12
    },
    {
     "cell_type": "code",
     "collapsed": false,
     "input": [
      "h1 = recur(W,U,b,X[:,0],h0)\n",
      "h2 = recur(W,U,b,X[:,1],h1)\n",
      "h3 = recur(W,U,b,X[:,2],h2)\n",
      "print(X.sum(axis=1))\n",
      "print(h3)"
     ],
     "language": "python",
     "metadata": {},
     "outputs": [
      {
       "output_type": "stream",
       "stream": "stdout",
       "text": [
        "[1 0]\n",
        "[1 0]\n"
       ]
      }
     ],
     "prompt_number": 13
    },
    {
     "cell_type": "code",
     "collapsed": false,
     "input": [],
     "language": "python",
     "metadata": {},
     "outputs": [],
     "prompt_number": 13
    },
    {
     "cell_type": "code",
     "collapsed": false,
     "input": [],
     "language": "python",
     "metadata": {},
     "outputs": []
    }
   ],
   "metadata": {}
  }
 ]
}