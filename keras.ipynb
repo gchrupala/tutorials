{
 "metadata": {
  "name": ""
 },
 "nbformat": 3,
 "nbformat_minor": 0,
 "worksheets": [
  {
   "cells": [
    {
     "cell_type": "markdown",
     "metadata": {},
     "source": [
      "# Getting started with Keras\n",
      "\n",
      "- https://github.com/fchollet/keras\n",
      "\n",
      "## Keras vs Theano\n",
      "\n",
      "- Keras is a wrapper on top of the Theano toolkit\n",
      "- Many standard models are very easy to define and use in Keras\n",
      "- More complicated models are often easier to implement directly in Theano\n",
      "  - or a more minimalist wrapper like https://github.com/gchrupala/funktional \n",
      "\n",
      "## Load some example data"
     ]
    },
    {
     "cell_type": "code",
     "collapsed": false,
     "input": [
      "import numpy\n",
      "from sklearn.datasets import load_iris\n",
      "data = load_iris()\n",
      "# Inputs\n",
      "X = numpy.array(data.data[:,0:3], dtype='float32')\n",
      "# Output\n",
      "y = numpy.array(data.data[:,3], dtype='float32')\n",
      "\n",
      "print X.shape\n",
      "print y.shape"
     ],
     "language": "python",
     "metadata": {},
     "outputs": [
      {
       "output_type": "stream",
       "stream": "stdout",
       "text": [
        "(150, 3)\n",
        "(150,)\n"
       ]
      }
     ],
     "prompt_number": 76
    },
    {
     "cell_type": "markdown",
     "metadata": {},
     "source": [
      "## Train/test split"
     ]
    },
    {
     "cell_type": "code",
     "collapsed": false,
     "input": [
      "ix = numpy.arange(0,X.shape[0]) ; numpy.random.shuffle(ix)\n",
      "X_tr = X[ix[0:100]]\n",
      "X_te = X[ix[100:150]]\n",
      "y_tr = y[ix[0:100]]\n",
      "y_te=  y[ix[100:150]]"
     ],
     "language": "python",
     "metadata": {},
     "outputs": [],
     "prompt_number": 77
    },
    {
     "cell_type": "markdown",
     "metadata": {},
     "source": [
      "## Define a regression model \n",
      "\n",
      "We'll use a fully connected feedforward network. This type of model is also known as a multi-layer perceptron (MLP)"
     ]
    },
    {
     "cell_type": "code",
     "collapsed": false,
     "input": [
      "from keras.models import Sequential\n",
      "from keras.layers.core import Dense, Dropout, Activation\n",
      "from keras.optimizers import SGD, Adam\n",
      "\n",
      "model = Sequential()\n",
      "model.add(Dense(16, input_dim=3, init='orthogonal', activation='tanh'))\n",
      "# model.add(Dropout(0.5)) # Dropout injects noise into the network and can sometimes help with overfitting\n",
      "model.add(Dense(16, init='orthogonal', activation='tanh'))\n",
      "# model.add(Dropout(0.5))\n",
      "model.add(Dense(1, init='orthogonal', activation='linear'))\n",
      "\n"
     ],
     "language": "python",
     "metadata": {},
     "outputs": [],
     "prompt_number": 78
    },
    {
     "cell_type": "markdown",
     "metadata": {},
     "source": [
      "## Compile and train the model"
     ]
    },
    {
     "cell_type": "code",
     "collapsed": false,
     "input": [
      "#sgd = SGD(lr=0.01, decay=1e-6, momentum=0.9, nesterov=True)\n",
      "optimizer = Adam(lr=0.0001, beta_1=0.9, beta_2=0.999, epsilon=1e-8)\n",
      "model.compile(loss='mean_squared_error', optimizer=optimizer)\n",
      "model.fit(X_tr, y_tr, nb_epoch=10, batch_size=1, verbose=2)"
     ],
     "language": "python",
     "metadata": {},
     "outputs": [
      {
       "ename": "ValueError",
       "evalue": "Input dimension mis-match. (input[0].shape[1] = 3, input[1].shape[1] = 1)\nApply node that caused the error: Elemwise{Sub}[(0, 0)](AdvancedSubtensor1.0, AdvancedSubtensor1.0)\nInputs types: [TensorType(float32, matrix), TensorType(float32, matrix)]\nInputs shapes: [(1, 3), (1, 1)]\nInputs strides: [(12, 4), (4, 4)]\nInputs values: [array([[ 0.01931676,  0.7279501 ,  0.25273314]], dtype=float32), array([[ 1.29999995]], dtype=float32)]\n\nHINT: Re-running with most Theano optimization disabled could give you a back-trace of when this node was created. This can be done with by setting the Theano flag 'optimizer=fast_compile'. If that does not work, Theano optimizations can be disabled with 'optimizer=None'.\nHINT: Use the Theano flag 'exception_verbosity=high' for a debugprint and storage map footprint of this apply node.",
       "output_type": "pyerr",
       "traceback": [
        "\u001b[0;31m---------------------------------------------------------------------------\u001b[0m\n\u001b[0;31mValueError\u001b[0m                                Traceback (most recent call last)",
        "\u001b[0;32m<ipython-input-102-91e5e9cc6446>\u001b[0m in \u001b[0;36m<module>\u001b[0;34m()\u001b[0m\n\u001b[1;32m      2\u001b[0m \u001b[0moptimizer\u001b[0m \u001b[0;34m=\u001b[0m \u001b[0mAdam\u001b[0m\u001b[0;34m(\u001b[0m\u001b[0mlr\u001b[0m\u001b[0;34m=\u001b[0m\u001b[0;36m0.1\u001b[0m\u001b[0;34m,\u001b[0m \u001b[0mbeta_1\u001b[0m\u001b[0;34m=\u001b[0m\u001b[0;36m0.9\u001b[0m\u001b[0;34m,\u001b[0m \u001b[0mbeta_2\u001b[0m\u001b[0;34m=\u001b[0m\u001b[0;36m0.999\u001b[0m\u001b[0;34m,\u001b[0m \u001b[0mepsilon\u001b[0m\u001b[0;34m=\u001b[0m\u001b[0;36m1e-8\u001b[0m\u001b[0;34m)\u001b[0m\u001b[0;34m\u001b[0m\u001b[0m\n\u001b[1;32m      3\u001b[0m \u001b[0mmodel\u001b[0m\u001b[0;34m.\u001b[0m\u001b[0mcompile\u001b[0m\u001b[0;34m(\u001b[0m\u001b[0mloss\u001b[0m\u001b[0;34m=\u001b[0m\u001b[0;34m'mean_squared_error'\u001b[0m\u001b[0;34m,\u001b[0m \u001b[0moptimizer\u001b[0m\u001b[0;34m=\u001b[0m\u001b[0moptimizer\u001b[0m\u001b[0;34m)\u001b[0m\u001b[0;34m\u001b[0m\u001b[0m\n\u001b[0;32m----> 4\u001b[0;31m \u001b[0mmodel\u001b[0m\u001b[0;34m.\u001b[0m\u001b[0mfit\u001b[0m\u001b[0;34m(\u001b[0m\u001b[0mX_tr\u001b[0m\u001b[0;34m,\u001b[0m \u001b[0my_tr\u001b[0m\u001b[0;34m,\u001b[0m \u001b[0mnb_epoch\u001b[0m\u001b[0;34m=\u001b[0m\u001b[0;36m10\u001b[0m\u001b[0;34m,\u001b[0m \u001b[0mbatch_size\u001b[0m\u001b[0;34m=\u001b[0m\u001b[0;36m1\u001b[0m\u001b[0;34m,\u001b[0m \u001b[0mverbose\u001b[0m\u001b[0;34m=\u001b[0m\u001b[0;36m2\u001b[0m\u001b[0;34m)\u001b[0m\u001b[0;34m\u001b[0m\u001b[0m\n\u001b[0m",
        "\u001b[0;32m/home/gchrupala/.local/lib/python2.7/site-packages/keras/models.pyc\u001b[0m in \u001b[0;36mfit\u001b[0;34m(self, X, y, batch_size, nb_epoch, verbose, callbacks, validation_split, validation_data, shuffle, show_accuracy, class_weight, sample_weight)\u001b[0m\n\u001b[1;32m    487\u001b[0m                          \u001b[0mverbose\u001b[0m\u001b[0;34m=\u001b[0m\u001b[0mverbose\u001b[0m\u001b[0;34m,\u001b[0m \u001b[0mcallbacks\u001b[0m\u001b[0;34m=\u001b[0m\u001b[0mcallbacks\u001b[0m\u001b[0;34m,\u001b[0m\u001b[0;34m\u001b[0m\u001b[0m\n\u001b[1;32m    488\u001b[0m                          \u001b[0mval_f\u001b[0m\u001b[0;34m=\u001b[0m\u001b[0mval_f\u001b[0m\u001b[0;34m,\u001b[0m \u001b[0mval_ins\u001b[0m\u001b[0;34m=\u001b[0m\u001b[0mval_ins\u001b[0m\u001b[0;34m,\u001b[0m\u001b[0;34m\u001b[0m\u001b[0m\n\u001b[0;32m--> 489\u001b[0;31m                          shuffle=shuffle, metrics=metrics)\n\u001b[0m\u001b[1;32m    490\u001b[0m \u001b[0;34m\u001b[0m\u001b[0m\n\u001b[1;32m    491\u001b[0m     \u001b[0;32mdef\u001b[0m \u001b[0mpredict\u001b[0m\u001b[0;34m(\u001b[0m\u001b[0mself\u001b[0m\u001b[0;34m,\u001b[0m \u001b[0mX\u001b[0m\u001b[0;34m,\u001b[0m \u001b[0mbatch_size\u001b[0m\u001b[0;34m=\u001b[0m\u001b[0;36m128\u001b[0m\u001b[0;34m,\u001b[0m \u001b[0mverbose\u001b[0m\u001b[0;34m=\u001b[0m\u001b[0;36m0\u001b[0m\u001b[0;34m)\u001b[0m\u001b[0;34m:\u001b[0m\u001b[0;34m\u001b[0m\u001b[0m\n",
        "\u001b[0;32m/home/gchrupala/.local/lib/python2.7/site-packages/keras/models.pyc\u001b[0m in \u001b[0;36m_fit\u001b[0;34m(self, f, ins, out_labels, batch_size, nb_epoch, verbose, callbacks, val_f, val_ins, shuffle, metrics)\u001b[0m\n\u001b[1;32m    208\u001b[0m                 \u001b[0mbatch_logs\u001b[0m\u001b[0;34m[\u001b[0m\u001b[0;34m'size'\u001b[0m\u001b[0;34m]\u001b[0m \u001b[0;34m=\u001b[0m \u001b[0mlen\u001b[0m\u001b[0;34m(\u001b[0m\u001b[0mbatch_ids\u001b[0m\u001b[0;34m)\u001b[0m\u001b[0;34m\u001b[0m\u001b[0m\n\u001b[1;32m    209\u001b[0m                 \u001b[0mcallbacks\u001b[0m\u001b[0;34m.\u001b[0m\u001b[0mon_batch_begin\u001b[0m\u001b[0;34m(\u001b[0m\u001b[0mbatch_index\u001b[0m\u001b[0;34m,\u001b[0m \u001b[0mbatch_logs\u001b[0m\u001b[0;34m)\u001b[0m\u001b[0;34m\u001b[0m\u001b[0m\n\u001b[0;32m--> 210\u001b[0;31m                 \u001b[0mouts\u001b[0m \u001b[0;34m=\u001b[0m \u001b[0mf\u001b[0m\u001b[0;34m(\u001b[0m\u001b[0;34m*\u001b[0m\u001b[0mins_batch\u001b[0m\u001b[0;34m)\u001b[0m\u001b[0;34m\u001b[0m\u001b[0m\n\u001b[0m\u001b[1;32m    211\u001b[0m                 \u001b[0;32mif\u001b[0m \u001b[0mtype\u001b[0m\u001b[0;34m(\u001b[0m\u001b[0mouts\u001b[0m\u001b[0;34m)\u001b[0m \u001b[0;34m!=\u001b[0m \u001b[0mlist\u001b[0m\u001b[0;34m:\u001b[0m\u001b[0;34m\u001b[0m\u001b[0m\n\u001b[1;32m    212\u001b[0m                     \u001b[0mouts\u001b[0m \u001b[0;34m=\u001b[0m \u001b[0;34m[\u001b[0m\u001b[0mouts\u001b[0m\u001b[0;34m]\u001b[0m\u001b[0;34m\u001b[0m\u001b[0m\n",
        "\u001b[0;32m/home/gchrupala/.local/lib/python2.7/site-packages/theano/compile/function_module.pyc\u001b[0m in \u001b[0;36m__call__\u001b[0;34m(self, *args, **kwargs)\u001b[0m\n\u001b[1;32m    604\u001b[0m                         \u001b[0mself\u001b[0m\u001b[0;34m.\u001b[0m\u001b[0mfn\u001b[0m\u001b[0;34m.\u001b[0m\u001b[0mnodes\u001b[0m\u001b[0;34m[\u001b[0m\u001b[0mself\u001b[0m\u001b[0;34m.\u001b[0m\u001b[0mfn\u001b[0m\u001b[0;34m.\u001b[0m\u001b[0mposition_of_error\u001b[0m\u001b[0;34m]\u001b[0m\u001b[0;34m,\u001b[0m\u001b[0;34m\u001b[0m\u001b[0m\n\u001b[1;32m    605\u001b[0m                         \u001b[0mself\u001b[0m\u001b[0;34m.\u001b[0m\u001b[0mfn\u001b[0m\u001b[0;34m.\u001b[0m\u001b[0mthunks\u001b[0m\u001b[0;34m[\u001b[0m\u001b[0mself\u001b[0m\u001b[0;34m.\u001b[0m\u001b[0mfn\u001b[0m\u001b[0;34m.\u001b[0m\u001b[0mposition_of_error\u001b[0m\u001b[0;34m]\u001b[0m\u001b[0;34m,\u001b[0m\u001b[0;34m\u001b[0m\u001b[0m\n\u001b[0;32m--> 606\u001b[0;31m                         storage_map=self.fn.storage_map)\n\u001b[0m\u001b[1;32m    607\u001b[0m                 \u001b[0;32melse\u001b[0m\u001b[0;34m:\u001b[0m\u001b[0;34m\u001b[0m\u001b[0m\n\u001b[1;32m    608\u001b[0m                     \u001b[0;31m# For the c linker We don't have access from\u001b[0m\u001b[0;34m\u001b[0m\u001b[0;34m\u001b[0m\u001b[0m\n",
        "\u001b[0;32m/home/gchrupala/.local/lib/python2.7/site-packages/theano/compile/function_module.pyc\u001b[0m in \u001b[0;36m__call__\u001b[0;34m(self, *args, **kwargs)\u001b[0m\n\u001b[1;32m    593\u001b[0m         \u001b[0mt0_fn\u001b[0m \u001b[0;34m=\u001b[0m \u001b[0mtime\u001b[0m\u001b[0;34m.\u001b[0m\u001b[0mtime\u001b[0m\u001b[0;34m(\u001b[0m\u001b[0;34m)\u001b[0m\u001b[0;34m\u001b[0m\u001b[0m\n\u001b[1;32m    594\u001b[0m         \u001b[0;32mtry\u001b[0m\u001b[0;34m:\u001b[0m\u001b[0;34m\u001b[0m\u001b[0m\n\u001b[0;32m--> 595\u001b[0;31m             \u001b[0moutputs\u001b[0m \u001b[0;34m=\u001b[0m \u001b[0mself\u001b[0m\u001b[0;34m.\u001b[0m\u001b[0mfn\u001b[0m\u001b[0;34m(\u001b[0m\u001b[0;34m)\u001b[0m\u001b[0;34m\u001b[0m\u001b[0m\n\u001b[0m\u001b[1;32m    596\u001b[0m         \u001b[0;32mexcept\u001b[0m \u001b[0mException\u001b[0m\u001b[0;34m:\u001b[0m\u001b[0;34m\u001b[0m\u001b[0m\n\u001b[1;32m    597\u001b[0m             \u001b[0;32mif\u001b[0m \u001b[0mhasattr\u001b[0m\u001b[0;34m(\u001b[0m\u001b[0mself\u001b[0m\u001b[0;34m.\u001b[0m\u001b[0mfn\u001b[0m\u001b[0;34m,\u001b[0m \u001b[0;34m'position_of_error'\u001b[0m\u001b[0;34m)\u001b[0m\u001b[0;34m:\u001b[0m\u001b[0;34m\u001b[0m\u001b[0m\n",
        "\u001b[0;31mValueError\u001b[0m: Input dimension mis-match. (input[0].shape[1] = 3, input[1].shape[1] = 1)\nApply node that caused the error: Elemwise{Sub}[(0, 0)](AdvancedSubtensor1.0, AdvancedSubtensor1.0)\nInputs types: [TensorType(float32, matrix), TensorType(float32, matrix)]\nInputs shapes: [(1, 3), (1, 1)]\nInputs strides: [(12, 4), (4, 4)]\nInputs values: [array([[ 0.01931676,  0.7279501 ,  0.25273314]], dtype=float32), array([[ 1.29999995]], dtype=float32)]\n\nHINT: Re-running with most Theano optimization disabled could give you a back-trace of when this node was created. This can be done with by setting the Theano flag 'optimizer=fast_compile'. If that does not work, Theano optimizations can be disabled with 'optimizer=None'.\nHINT: Use the Theano flag 'exception_verbosity=high' for a debugprint and storage map footprint of this apply node."
       ]
      },
      {
       "output_type": "stream",
       "stream": "stdout",
       "text": [
        "Epoch 1/10\n"
       ]
      }
     ],
     "prompt_number": 102
    },
    {
     "cell_type": "markdown",
     "metadata": {},
     "source": [
      "## Use trained model to generate predictions"
     ]
    },
    {
     "cell_type": "code",
     "collapsed": false,
     "input": [
      "y_pred = model.predict(X_te)\n",
      "y_pred.reshape((50,))"
     ],
     "language": "python",
     "metadata": {},
     "outputs": [
      {
       "metadata": {},
       "output_type": "pyout",
       "prompt_number": 90,
       "text": [
        "array([ 2.18239594,  1.7955153 ,  0.14031488,  1.67924619,  1.21093655,\n",
        "        0.25803012,  2.04063582,  0.14716671,  0.20278591,  1.29004455,\n",
        "        0.19069299,  1.79441869,  1.34036863,  1.93137431,  1.57581353,\n",
        "        1.84345937,  0.25195834,  0.1693207 ,  1.73553085,  1.42037547,\n",
        "        0.18121117,  1.6275028 ,  1.32673359,  0.1167677 ,  0.19993532,\n",
        "        1.52748859,  0.08936556,  1.53192401,  1.41325414,  1.04506779,\n",
        "        0.2216866 ,  1.59668982,  0.23861423,  0.24774995,  0.17772365,\n",
        "        0.9624306 ,  1.28266239,  1.83685875,  0.17547196,  1.78765273,\n",
        "        1.99226511,  0.35666192,  1.97210836,  1.87419856,  0.26769635,\n",
        "        2.07164502,  2.16008234,  1.30389094,  1.45533085,  1.8166846 ])"
       ]
      }
     ],
     "prompt_number": 90
    },
    {
     "cell_type": "markdown",
     "metadata": {},
     "source": [
      "# Compute Mean Absolute Error"
     ]
    },
    {
     "cell_type": "code",
     "collapsed": false,
     "input": [
      "numpy.mean(numpy.abs(y_pred - y))"
     ],
     "language": "python",
     "metadata": {},
     "outputs": [
      {
       "metadata": {},
       "output_type": "pyout",
       "prompt_number": 92,
       "text": [
        "0.84699833063284558"
       ]
      }
     ],
     "prompt_number": 92
    },
    {
     "cell_type": "markdown",
     "metadata": {},
     "source": [
      "We can also use the ``evaluate`` method which will compute the specified loss function (MSE)"
     ]
    },
    {
     "cell_type": "code",
     "collapsed": false,
     "input": [
      "model.evaluate(X_te, y_te)"
     ],
     "language": "python",
     "metadata": {},
     "outputs": [
      {
       "output_type": "stream",
       "stream": "stdout",
       "text": [
        "\r",
        "50/50 [==============================] - 0s"
       ]
      },
      {
       "output_type": "stream",
       "stream": "stdout",
       "text": [
        "\n"
       ]
      },
      {
       "metadata": {},
       "output_type": "pyout",
       "prompt_number": 93,
       "text": [
        "0.036692555993795395"
       ]
      }
     ],
     "prompt_number": 93
    },
    {
     "cell_type": "markdown",
     "metadata": {},
     "source": [
      "## Classification\n",
      "\n",
      "Prepare the data"
     ]
    },
    {
     "cell_type": "code",
     "collapsed": false,
     "input": [
      "target = numpy.zeros((150,3))\n",
      "target[0:55,y[0:55]] = 1\n",
      "target"
     ],
     "language": "python",
     "metadata": {},
     "outputs": [
      {
       "metadata": {},
       "output_type": "pyout",
       "prompt_number": 100,
       "text": [
        "array([[ 1.,  1.,  0.],\n",
        "       [ 1.,  1.,  0.],\n",
        "       [ 1.,  1.,  0.],\n",
        "       [ 1.,  1.,  0.],\n",
        "       [ 1.,  1.,  0.],\n",
        "       [ 1.,  1.,  0.],\n",
        "       [ 1.,  1.,  0.],\n",
        "       [ 1.,  1.,  0.],\n",
        "       [ 1.,  1.,  0.],\n",
        "       [ 1.,  1.,  0.],\n",
        "       [ 1.,  1.,  0.],\n",
        "       [ 1.,  1.,  0.],\n",
        "       [ 1.,  1.,  0.],\n",
        "       [ 1.,  1.,  0.],\n",
        "       [ 1.,  1.,  0.],\n",
        "       [ 1.,  1.,  0.],\n",
        "       [ 1.,  1.,  0.],\n",
        "       [ 1.,  1.,  0.],\n",
        "       [ 1.,  1.,  0.],\n",
        "       [ 1.,  1.,  0.],\n",
        "       [ 1.,  1.,  0.],\n",
        "       [ 1.,  1.,  0.],\n",
        "       [ 1.,  1.,  0.],\n",
        "       [ 1.,  1.,  0.],\n",
        "       [ 1.,  1.,  0.],\n",
        "       [ 1.,  1.,  0.],\n",
        "       [ 1.,  1.,  0.],\n",
        "       [ 1.,  1.,  0.],\n",
        "       [ 1.,  1.,  0.],\n",
        "       [ 1.,  1.,  0.],\n",
        "       [ 1.,  1.,  0.],\n",
        "       [ 1.,  1.,  0.],\n",
        "       [ 1.,  1.,  0.],\n",
        "       [ 1.,  1.,  0.],\n",
        "       [ 1.,  1.,  0.],\n",
        "       [ 1.,  1.,  0.],\n",
        "       [ 1.,  1.,  0.],\n",
        "       [ 1.,  1.,  0.],\n",
        "       [ 1.,  1.,  0.],\n",
        "       [ 1.,  1.,  0.],\n",
        "       [ 1.,  1.,  0.],\n",
        "       [ 1.,  1.,  0.],\n",
        "       [ 1.,  1.,  0.],\n",
        "       [ 1.,  1.,  0.],\n",
        "       [ 1.,  1.,  0.],\n",
        "       [ 1.,  1.,  0.],\n",
        "       [ 1.,  1.,  0.],\n",
        "       [ 1.,  1.,  0.],\n",
        "       [ 1.,  1.,  0.],\n",
        "       [ 1.,  1.,  0.],\n",
        "       [ 1.,  1.,  0.],\n",
        "       [ 1.,  1.,  0.],\n",
        "       [ 1.,  1.,  0.],\n",
        "       [ 1.,  1.,  0.],\n",
        "       [ 1.,  1.,  0.],\n",
        "       [ 0.,  0.,  0.],\n",
        "       [ 0.,  0.,  0.],\n",
        "       [ 0.,  0.,  0.],\n",
        "       [ 0.,  0.,  0.],\n",
        "       [ 0.,  0.,  0.],\n",
        "       [ 0.,  0.,  0.],\n",
        "       [ 0.,  0.,  0.],\n",
        "       [ 0.,  0.,  0.],\n",
        "       [ 0.,  0.,  0.],\n",
        "       [ 0.,  0.,  0.],\n",
        "       [ 0.,  0.,  0.],\n",
        "       [ 0.,  0.,  0.],\n",
        "       [ 0.,  0.,  0.],\n",
        "       [ 0.,  0.,  0.],\n",
        "       [ 0.,  0.,  0.],\n",
        "       [ 0.,  0.,  0.],\n",
        "       [ 0.,  0.,  0.],\n",
        "       [ 0.,  0.,  0.],\n",
        "       [ 0.,  0.,  0.],\n",
        "       [ 0.,  0.,  0.],\n",
        "       [ 0.,  0.,  0.],\n",
        "       [ 0.,  0.,  0.],\n",
        "       [ 0.,  0.,  0.],\n",
        "       [ 0.,  0.,  0.],\n",
        "       [ 0.,  0.,  0.],\n",
        "       [ 0.,  0.,  0.],\n",
        "       [ 0.,  0.,  0.],\n",
        "       [ 0.,  0.,  0.],\n",
        "       [ 0.,  0.,  0.],\n",
        "       [ 0.,  0.,  0.],\n",
        "       [ 0.,  0.,  0.],\n",
        "       [ 0.,  0.,  0.],\n",
        "       [ 0.,  0.,  0.],\n",
        "       [ 0.,  0.,  0.],\n",
        "       [ 0.,  0.,  0.],\n",
        "       [ 0.,  0.,  0.],\n",
        "       [ 0.,  0.,  0.],\n",
        "       [ 0.,  0.,  0.],\n",
        "       [ 0.,  0.,  0.],\n",
        "       [ 0.,  0.,  0.],\n",
        "       [ 0.,  0.,  0.],\n",
        "       [ 0.,  0.,  0.],\n",
        "       [ 0.,  0.,  0.],\n",
        "       [ 0.,  0.,  0.],\n",
        "       [ 0.,  0.,  0.],\n",
        "       [ 0.,  0.,  0.],\n",
        "       [ 0.,  0.,  0.],\n",
        "       [ 0.,  0.,  0.],\n",
        "       [ 0.,  0.,  0.],\n",
        "       [ 0.,  0.,  0.],\n",
        "       [ 0.,  0.,  0.],\n",
        "       [ 0.,  0.,  0.],\n",
        "       [ 0.,  0.,  0.],\n",
        "       [ 0.,  0.,  0.],\n",
        "       [ 0.,  0.,  0.],\n",
        "       [ 0.,  0.,  0.],\n",
        "       [ 0.,  0.,  0.],\n",
        "       [ 0.,  0.,  0.],\n",
        "       [ 0.,  0.,  0.],\n",
        "       [ 0.,  0.,  0.],\n",
        "       [ 0.,  0.,  0.],\n",
        "       [ 0.,  0.,  0.],\n",
        "       [ 0.,  0.,  0.],\n",
        "       [ 0.,  0.,  0.],\n",
        "       [ 0.,  0.,  0.],\n",
        "       [ 0.,  0.,  0.],\n",
        "       [ 0.,  0.,  0.],\n",
        "       [ 0.,  0.,  0.],\n",
        "       [ 0.,  0.,  0.],\n",
        "       [ 0.,  0.,  0.],\n",
        "       [ 0.,  0.,  0.],\n",
        "       [ 0.,  0.,  0.],\n",
        "       [ 0.,  0.,  0.],\n",
        "       [ 0.,  0.,  0.],\n",
        "       [ 0.,  0.,  0.],\n",
        "       [ 0.,  0.,  0.],\n",
        "       [ 0.,  0.,  0.],\n",
        "       [ 0.,  0.,  0.],\n",
        "       [ 0.,  0.,  0.],\n",
        "       [ 0.,  0.,  0.],\n",
        "       [ 0.,  0.,  0.],\n",
        "       [ 0.,  0.,  0.],\n",
        "       [ 0.,  0.,  0.],\n",
        "       [ 0.,  0.,  0.],\n",
        "       [ 0.,  0.,  0.],\n",
        "       [ 0.,  0.,  0.],\n",
        "       [ 0.,  0.,  0.],\n",
        "       [ 0.,  0.,  0.],\n",
        "       [ 0.,  0.,  0.],\n",
        "       [ 0.,  0.,  0.],\n",
        "       [ 0.,  0.,  0.],\n",
        "       [ 0.,  0.,  0.],\n",
        "       [ 0.,  0.,  0.],\n",
        "       [ 0.,  0.,  0.],\n",
        "       [ 0.,  0.,  0.]])"
       ]
      }
     ],
     "prompt_number": 100
    },
    {
     "cell_type": "code",
     "collapsed": false,
     "input": [
      "# Inputs\n",
      "X = numpy.array(data.data, dtype='float32')\n",
      "# Output\n",
      "y = numpy.array(data.target, dtype='int32')\n",
      "y"
     ],
     "language": "python",
     "metadata": {},
     "outputs": [
      {
       "metadata": {},
       "output_type": "pyout",
       "prompt_number": 94,
       "text": [
        "array([0, 0, 0, 0, 0, 0, 0, 0, 0, 0, 0, 0, 0, 0, 0, 0, 0, 0, 0, 0, 0, 0, 0,\n",
        "       0, 0, 0, 0, 0, 0, 0, 0, 0, 0, 0, 0, 0, 0, 0, 0, 0, 0, 0, 0, 0, 0, 0,\n",
        "       0, 0, 0, 0, 1, 1, 1, 1, 1, 1, 1, 1, 1, 1, 1, 1, 1, 1, 1, 1, 1, 1, 1,\n",
        "       1, 1, 1, 1, 1, 1, 1, 1, 1, 1, 1, 1, 1, 1, 1, 1, 1, 1, 1, 1, 1, 1, 1,\n",
        "       1, 1, 1, 1, 1, 1, 1, 1, 2, 2, 2, 2, 2, 2, 2, 2, 2, 2, 2, 2, 2, 2, 2,\n",
        "       2, 2, 2, 2, 2, 2, 2, 2, 2, 2, 2, 2, 2, 2, 2, 2, 2, 2, 2, 2, 2, 2, 2,\n",
        "       2, 2, 2, 2, 2, 2, 2, 2, 2, 2, 2, 2], dtype=int32)"
       ]
      }
     ],
     "prompt_number": 94
    },
    {
     "cell_type": "code",
     "collapsed": false,
     "input": [
      "# Indicator array for classes\n",
      "Y = numpy.zeros((150,3))\n",
      "for k in range(0,3):\n",
      "    Y[y==k,k]=1"
     ],
     "language": "python",
     "metadata": {},
     "outputs": [],
     "prompt_number": 95
    },
    {
     "cell_type": "code",
     "collapsed": false,
     "input": [
      "X_tr = X[ix[0:100]]\n",
      "X_te = X[ix[100:150]]\n",
      "Y_tr = Y[ix[0:100]]\n",
      "Y_te = Y[ix[100:150]]\n",
      "y_te = y[ix[100:150]]"
     ],
     "language": "python",
     "metadata": {},
     "outputs": [],
     "prompt_number": 96
    },
    {
     "cell_type": "code",
     "collapsed": false,
     "input": [
      "model = Sequential()\n",
      "model.add(Dense(16, input_dim=4, init='orthogonal', activation='tanh'))\n",
      "# model.add(Dropout(0.5)) # Dropout injects noise into the network and can sometimes help with overfitting\n",
      "model.add(Dense(16, init='orthogonal', activation='tanh'))\n",
      "# model.add(Dropout(0.5))\n",
      "model.add(Dense(3, init='orthogonal', activation='softmax')) # We need to have as many units as classes, \n",
      "                                                             # and softmax activation\n"
     ],
     "language": "python",
     "metadata": {},
     "outputs": [],
     "prompt_number": 97
    },
    {
     "cell_type": "code",
     "collapsed": false,
     "input": [
      "optimizer = Adam(lr=0.001, beta_1=0.9, beta_2=0.999, epsilon=1e-8)\n",
      "model.compile(loss='categorical_crossentropy', optimizer=optimizer)\n",
      "model.fit(X_tr, Y_tr, nb_epoch=10, batch_size=1, verbose=2)"
     ],
     "language": "python",
     "metadata": {},
     "outputs": [
      {
       "output_type": "stream",
       "stream": "stdout",
       "text": [
        "Epoch 1/10\n",
        "0s - loss: 1.0879\n"
       ]
      },
      {
       "output_type": "stream",
       "stream": "stdout",
       "text": [
        "Epoch 2/10\n",
        "0s - loss: 0.8335\n"
       ]
      },
      {
       "output_type": "stream",
       "stream": "stdout",
       "text": [
        "Epoch 3/10\n",
        "0s - loss: 0.6392\n"
       ]
      },
      {
       "output_type": "stream",
       "stream": "stdout",
       "text": [
        "Epoch 4/10\n",
        "0s - loss: 0.5199\n"
       ]
      },
      {
       "output_type": "stream",
       "stream": "stdout",
       "text": [
        "Epoch 5/10\n",
        "0s - loss: 0.4643\n"
       ]
      },
      {
       "output_type": "stream",
       "stream": "stdout",
       "text": [
        "Epoch 6/10\n",
        "0s - loss: 0.4141\n"
       ]
      },
      {
       "output_type": "stream",
       "stream": "stdout",
       "text": [
        "Epoch 7/10\n",
        "0s - loss: 0.3720\n"
       ]
      },
      {
       "output_type": "stream",
       "stream": "stdout",
       "text": [
        "Epoch 8/10\n",
        "0s - loss: 0.3328\n"
       ]
      },
      {
       "output_type": "stream",
       "stream": "stdout",
       "text": [
        "Epoch 9/10\n",
        "0s - loss: 0.2915\n"
       ]
      },
      {
       "output_type": "stream",
       "stream": "stdout",
       "text": [
        "Epoch 10/10\n",
        "0s - loss: 0.2365\n"
       ]
      },
      {
       "metadata": {},
       "output_type": "pyout",
       "prompt_number": 98,
       "text": [
        "<keras.callbacks.History at 0x7f6790972710>"
       ]
      }
     ],
     "prompt_number": 98
    },
    {
     "cell_type": "markdown",
     "metadata": {},
     "source": [
      "## Output predicted class probabilities"
     ]
    },
    {
     "cell_type": "code",
     "collapsed": false,
     "input": [
      "model.predict_proba(X_te)"
     ],
     "language": "python",
     "metadata": {},
     "outputs": [
      {
       "output_type": "stream",
       "stream": "stdout",
       "text": [
        "\r",
        "50/50 [==============================] - 0s"
       ]
      },
      {
       "output_type": "stream",
       "stream": "stdout",
       "text": [
        "\n"
       ]
      },
      {
       "metadata": {},
       "output_type": "pyout",
       "prompt_number": 99,
       "text": [
        "array([[  3.93138593e-03,   2.42699161e-01,   7.53369451e-01],\n",
        "       [  2.61196517e-03,   1.23553216e-01,   8.73834789e-01],\n",
        "       [  9.63064253e-01,   3.60473618e-02,   8.88373295e-04],\n",
        "       [  1.15597863e-02,   4.32918161e-01,   5.55522084e-01],\n",
        "       [  2.01484505e-02,   7.16552794e-01,   2.63298750e-01],\n",
        "       [  9.75898802e-01,   2.35669613e-02,   5.34222112e-04],\n",
        "       [  1.71731133e-03,   8.69062170e-02,   9.11376476e-01],\n",
        "       [  9.58979309e-01,   4.00370322e-02,   9.83653241e-04],\n",
        "       [  9.71580148e-01,   2.77768094e-02,   6.43017585e-04],\n",
        "       [  5.67351608e-03,   3.24873596e-01,   6.69452906e-01],\n",
        "       [  9.69061971e-01,   3.02325934e-02,   7.05427548e-04],\n",
        "       [  4.92262281e-03,   2.56443352e-01,   7.38633990e-01],\n",
        "       [  1.99060626e-02,   6.88229799e-01,   2.91864157e-01],\n",
        "       [  3.05488845e-03,   1.68232113e-01,   8.28713000e-01],\n",
        "       [  2.72948272e-03,   1.57310411e-01,   8.39960098e-01],\n",
        "       [  1.49679813e-03,   7.31784925e-02,   9.25324738e-01],\n",
        "       [  9.50836957e-01,   4.79592942e-02,   1.20373245e-03],\n",
        "       [  9.70603168e-01,   2.87313052e-02,   6.65538711e-04],\n",
        "       [  1.64709100e-03,   8.73115808e-02,   9.11041319e-01],\n",
        "       [  2.01905519e-02,   6.84898853e-01,   2.94910580e-01],\n",
        "       [  9.65168297e-01,   3.40075642e-02,   8.24113784e-04],\n",
        "       [  4.00760490e-03,   2.26302817e-01,   7.69689560e-01],\n",
        "       [  1.79829318e-02,   5.88784635e-01,   3.93232435e-01],\n",
        "       [  9.68314886e-01,   3.09640374e-02,   7.21066375e-04],\n",
        "       [  9.67898488e-01,   3.13491970e-02,   7.52326683e-04],\n",
        "       [  1.17195230e-02,   5.25391638e-01,   4.62888837e-01],\n",
        "       [  9.68744099e-01,   3.05267032e-02,   7.29202759e-04],\n",
        "       [  1.21451551e-02,   5.03415644e-01,   4.84439164e-01],\n",
        "       [  1.54174659e-02,   5.97522378e-01,   3.87060165e-01],\n",
        "       [  4.19878289e-02,   8.15366983e-01,   1.42645180e-01],\n",
        "       [  9.71195817e-01,   2.81574503e-02,   6.46723609e-04],\n",
        "       [  1.31380279e-02,   5.82518697e-01,   4.04343307e-01],\n",
        "       [  9.61219072e-01,   3.78585346e-02,   9.22383042e-04],\n",
        "       [  9.59602058e-01,   3.94299030e-02,   9.68065287e-04],\n",
        "       [  9.68262017e-01,   3.10149603e-02,   7.23025238e-04],\n",
        "       [  4.36633900e-02,   7.92204618e-01,   1.64131999e-01],\n",
        "       [  1.97851919e-02,   7.52006650e-01,   2.28208169e-01],\n",
        "       [  1.47984107e-03,   8.90989751e-02,   9.09421206e-01],\n",
        "       [  9.66690898e-01,   3.25395577e-02,   7.69543462e-04],\n",
        "       [  2.25672498e-03,   1.29666984e-01,   8.68076265e-01],\n",
        "       [  6.91785419e-04,   4.32033688e-02,   9.56104875e-01],\n",
        "       [  9.63444352e-01,   3.56830396e-02,   8.72594770e-04],\n",
        "       [  3.31118959e-03,   1.74708039e-01,   8.21980774e-01],\n",
        "       [  3.89612955e-03,   1.87446207e-01,   8.08657646e-01],\n",
        "       [  9.71481204e-01,   2.78691798e-02,   6.49611873e-04],\n",
        "       [  1.55174569e-03,   8.34257901e-02,   9.15022492e-01],\n",
        "       [  1.86431652e-03,   9.71894637e-02,   9.00946200e-01],\n",
        "       [  1.83219556e-02,   7.41102934e-01,   2.40575135e-01],\n",
        "       [  1.11104669e-02,   5.80668509e-01,   4.08221036e-01],\n",
        "       [  2.18383456e-03,   1.11988783e-01,   8.85827363e-01]])"
       ]
      }
     ],
     "prompt_number": 99
    },
    {
     "cell_type": "markdown",
     "metadata": {},
     "source": [
      "## Calculate accuracy"
     ]
    },
    {
     "cell_type": "code",
     "collapsed": false,
     "input": [
      "model.predict_classes(X_te)"
     ],
     "language": "python",
     "metadata": {},
     "outputs": [
      {
       "output_type": "stream",
       "stream": "stdout",
       "text": [
        "\r",
        "50/50 [==============================] - 0s"
       ]
      },
      {
       "output_type": "stream",
       "stream": "stdout",
       "text": [
        "\n"
       ]
      },
      {
       "metadata": {},
       "output_type": "pyout",
       "prompt_number": 100,
       "text": [
        "array([2, 2, 0, 2, 1, 0, 2, 0, 0, 2, 0, 2, 1, 2, 2, 2, 0, 0, 2, 1, 0, 2, 1,\n",
        "       0, 0, 1, 0, 1, 1, 1, 0, 1, 0, 0, 0, 1, 1, 2, 0, 2, 2, 0, 2, 2, 0, 2,\n",
        "       2, 1, 1, 2])"
       ]
      }
     ],
     "prompt_number": 100
    },
    {
     "cell_type": "code",
     "collapsed": false,
     "input": [
      "numpy.mean(model.predict_classes(X_te) == y_te)"
     ],
     "language": "python",
     "metadata": {},
     "outputs": [
      {
       "output_type": "stream",
       "stream": "stdout",
       "text": [
        "\r",
        "50/50 [==============================] - 0s"
       ]
      },
      {
       "output_type": "stream",
       "stream": "stdout",
       "text": [
        "\n"
       ]
      },
      {
       "metadata": {},
       "output_type": "pyout",
       "prompt_number": 101,
       "text": [
        "0.95999999999999996"
       ]
      }
     ],
     "prompt_number": 101
    },
    {
     "cell_type": "markdown",
     "metadata": {},
     "source": [
      "## GPU\n",
      "\n",
      "- It only makes sense to use NN models on very large datasets\n",
      "- In order to train them in reasonable time you need to run them on a GPU\n",
      "- Need access to GPU machines\n",
      "- Setting environment variable THEANO_FLAGS to appropriate value, and run with ``nohup`` via command line"
     ]
    },
    {
     "cell_type": "code",
     "collapsed": false,
     "input": [],
     "language": "python",
     "metadata": {},
     "outputs": []
    }
   ],
   "metadata": {}
  }
 ]
}