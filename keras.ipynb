{
 "metadata": {
  "name": ""
 },
 "nbformat": 3,
 "nbformat_minor": 0,
 "worksheets": [
  {
   "cells": [
    {
     "cell_type": "markdown",
     "metadata": {},
     "source": [
      "# Getting started with Keras\n",
      "\n",
      "- https://github.com/fchollet/keras\n",
      "\n",
      "## Keras vs Theano\n",
      "\n",
      "- Keras is a wrapper on top of the Theano toolkit\n",
      "- Many standard models are very easy to define and use in Keras\n",
      "- More complicated models are often easier to implement directly in Theano\n",
      "  - or a more minimalist wrapper like https://github.com/gchrupala/funktional \n",
      "\n",
      "## Load some example data"
     ]
    },
    {
     "cell_type": "code",
     "collapsed": false,
     "input": [
      "import numpy\n",
      "from sklearn.datasets import load_iris\n",
      "data = load_iris()\n",
      "# Inputs\n",
      "X = numpy.array(data.data[:,0:3], dtype='float32')\n",
      "# Output\n",
      "y = numpy.array(data.data[:,3], dtype='float32')\n",
      "\n",
      "print X.shape\n",
      "print y.shape"
     ],
     "language": "python",
     "metadata": {},
     "outputs": [
      {
       "output_type": "stream",
       "stream": "stdout",
       "text": [
        "(150, 3)\n",
        "(150,)\n"
       ]
      }
     ],
     "prompt_number": 1
    },
    {
     "cell_type": "markdown",
     "metadata": {},
     "source": [
      "## Train/test split"
     ]
    },
    {
     "cell_type": "code",
     "collapsed": false,
     "input": [
      "ix = numpy.arange(0,X.shape[0]) ; numpy.random.shuffle(ix)\n",
      "X_tr = X[ix[0:100]]\n",
      "X_te = X[ix[100:150]]\n",
      "y_tr = y[ix[0:100]]\n",
      "y_te=  y[ix[100:150]]"
     ],
     "language": "python",
     "metadata": {},
     "outputs": [],
     "prompt_number": 2
    },
    {
     "cell_type": "markdown",
     "metadata": {},
     "source": [
      "## Define a regression model \n",
      "\n",
      "We'll use a fully connected feedforward network. This type of model is also known as a multi-layer perceptron (MLP)"
     ]
    },
    {
     "cell_type": "code",
     "collapsed": false,
     "input": [
      "from keras.models import Sequential\n",
      "from keras.layers.core import Dense, Dropout, Activation\n",
      "from keras.optimizers import SGD, Adam\n",
      "\n",
      "model = Sequential()\n",
      "model.add(Dense(16, input_dim=3, init='orthogonal', activation='tanh'))\n",
      "# model.add(Dropout(0.5)) # Dropout injects noise into the network and can sometimes help with overfitting\n",
      "model.add(Dense(16, init='orthogonal', activation='tanh'))\n",
      "# model.add(Dropout(0.5))\n",
      "model.add(Dense(1, init='orthogonal', activation='linear'))\n",
      "\n"
     ],
     "language": "python",
     "metadata": {},
     "outputs": [],
     "prompt_number": 3
    },
    {
     "cell_type": "markdown",
     "metadata": {},
     "source": [
      "## Compile and train the model"
     ]
    },
    {
     "cell_type": "code",
     "collapsed": false,
     "input": [
      "#sgd = SGD(lr=0.01, decay=1e-6, momentum=0.9, nesterov=True)\n",
      "optimizer = Adam(lr=0.0001, beta_1=0.9, beta_2=0.999, epsilon=1e-8)\n",
      "model.compile(loss='mean_squared_error', optimizer=optimizer)\n",
      "model.fit(X_tr, y_tr, nb_epoch=10, batch_size=1, verbose=2)"
     ],
     "language": "python",
     "metadata": {},
     "outputs": [
      {
       "output_type": "stream",
       "stream": "stdout",
       "text": [
        "Epoch 1/10\n",
        "0s - loss: 1.6440\n",
        "Epoch 2/10\n",
        "0s - loss: 0.8271\n"
       ]
      },
      {
       "output_type": "stream",
       "stream": "stdout",
       "text": [
        "Epoch 3/10\n",
        "0s - loss: 0.4195\n",
        "Epoch 4/10\n",
        "0s - loss: 0.2396\n"
       ]
      },
      {
       "output_type": "stream",
       "stream": "stdout",
       "text": [
        "Epoch 5/10\n",
        "0s - loss: 0.1667\n",
        "Epoch 6/10\n",
        "0s - loss: 0.1349\n"
       ]
      },
      {
       "output_type": "stream",
       "stream": "stdout",
       "text": [
        "Epoch 7/10\n",
        "0s - loss: 0.1159\n",
        "Epoch 8/10\n",
        "0s - loss: 0.1031\n"
       ]
      },
      {
       "output_type": "stream",
       "stream": "stdout",
       "text": [
        "Epoch 9/10\n",
        "0s - loss: 0.0927\n",
        "Epoch 10/10\n",
        "0s - loss: 0.0846\n"
       ]
      },
      {
       "metadata": {},
       "output_type": "pyout",
       "prompt_number": 4,
       "text": [
        "<keras.callbacks.History at 0x7fd8582bc990>"
       ]
      }
     ],
     "prompt_number": 4
    },
    {
     "cell_type": "markdown",
     "metadata": {},
     "source": [
      "## Use trained model to generate predictions"
     ]
    },
    {
     "cell_type": "code",
     "collapsed": false,
     "input": [
      "y_pred = model.predict(X_te)\n",
      "y_pred.reshape((50,))"
     ],
     "language": "python",
     "metadata": {},
     "outputs": [
      {
       "metadata": {},
       "output_type": "pyout",
       "prompt_number": 5,
       "text": [
        "array([ 1.32146954,  0.27881058,  1.48102021,  1.48932677,  1.70745071,\n",
        "        0.34070773,  0.41861435,  1.28509815,  1.6768662 ,  1.64873129,\n",
        "        0.31010055,  0.31915281,  1.41236017,  0.39516329,  1.5589759 ,\n",
        "        1.63435789,  1.70115597,  1.6577661 ,  0.47226346,  1.70441457,\n",
        "        1.68541189,  0.40672672,  1.572151  ,  1.57015616,  0.36552247,\n",
        "        1.66187304,  0.40409884,  1.61329162,  1.39525694,  0.54858036,\n",
        "        0.45490582,  1.46891832,  1.66062997,  1.60888136,  1.63372278,\n",
        "        1.55110047,  1.16117487,  1.55777863,  0.32905074,  1.47454087,\n",
        "        0.34328494,  1.63116154,  1.36860645,  1.44787263,  1.69586504,\n",
        "        0.32126297,  1.53294931,  1.43702023,  0.36009613,  1.41713604])"
       ]
      }
     ],
     "prompt_number": 5
    },
    {
     "cell_type": "markdown",
     "metadata": {},
     "source": [
      "# Compute Mean Absolute Error"
     ]
    },
    {
     "cell_type": "code",
     "collapsed": false,
     "input": [
      "numpy.mean(numpy.abs(y_pred - y))"
     ],
     "language": "python",
     "metadata": {},
     "outputs": [
      {
       "metadata": {},
       "output_type": "pyout",
       "prompt_number": 6,
       "text": [
        "0.76088197071294905"
       ]
      }
     ],
     "prompt_number": 6
    },
    {
     "cell_type": "markdown",
     "metadata": {},
     "source": [
      "We can also use the ``evaluate`` method which will compute the specified loss function (MSE)"
     ]
    },
    {
     "cell_type": "code",
     "collapsed": false,
     "input": [
      "model.evaluate(X_te, y_te)"
     ],
     "language": "python",
     "metadata": {},
     "outputs": [
      {
       "output_type": "stream",
       "stream": "stdout",
       "text": [
        "\r",
        "50/50 [==============================] - 0s"
       ]
      },
      {
       "output_type": "stream",
       "stream": "stdout",
       "text": [
        "\n"
       ]
      },
      {
       "metadata": {},
       "output_type": "pyout",
       "prompt_number": 7,
       "text": [
        "0.10948197172692159"
       ]
      }
     ],
     "prompt_number": 7
    },
    {
     "cell_type": "markdown",
     "metadata": {},
     "source": [
      "## Classification\n",
      "\n",
      "Prepare the data"
     ]
    },
    {
     "cell_type": "code",
     "collapsed": false,
     "input": [
      "# Inputs\n",
      "X = numpy.array(data.data, dtype='float32')\n",
      "# Output\n",
      "y = numpy.array(data.target, dtype='int32')\n",
      "y"
     ],
     "language": "python",
     "metadata": {},
     "outputs": [
      {
       "metadata": {},
       "output_type": "pyout",
       "prompt_number": 8,
       "text": [
        "array([0, 0, 0, 0, 0, 0, 0, 0, 0, 0, 0, 0, 0, 0, 0, 0, 0, 0, 0, 0, 0, 0, 0,\n",
        "       0, 0, 0, 0, 0, 0, 0, 0, 0, 0, 0, 0, 0, 0, 0, 0, 0, 0, 0, 0, 0, 0, 0,\n",
        "       0, 0, 0, 0, 1, 1, 1, 1, 1, 1, 1, 1, 1, 1, 1, 1, 1, 1, 1, 1, 1, 1, 1,\n",
        "       1, 1, 1, 1, 1, 1, 1, 1, 1, 1, 1, 1, 1, 1, 1, 1, 1, 1, 1, 1, 1, 1, 1,\n",
        "       1, 1, 1, 1, 1, 1, 1, 1, 2, 2, 2, 2, 2, 2, 2, 2, 2, 2, 2, 2, 2, 2, 2,\n",
        "       2, 2, 2, 2, 2, 2, 2, 2, 2, 2, 2, 2, 2, 2, 2, 2, 2, 2, 2, 2, 2, 2, 2,\n",
        "       2, 2, 2, 2, 2, 2, 2, 2, 2, 2, 2, 2], dtype=int32)"
       ]
      }
     ],
     "prompt_number": 8
    },
    {
     "cell_type": "code",
     "collapsed": false,
     "input": [
      "# Indicator array for classes\n",
      "Y = numpy.zeros((150,3))\n",
      "for k in range(0,3):\n",
      "    Y[y==k,k]=1"
     ],
     "language": "python",
     "metadata": {},
     "outputs": [],
     "prompt_number": 9
    },
    {
     "cell_type": "code",
     "collapsed": false,
     "input": [
      "X_tr = X[ix[0:100]]\n",
      "X_te = X[ix[100:150]]\n",
      "Y_tr = Y[ix[0:100]]\n",
      "Y_te = Y[ix[100:150]]\n",
      "y_te = y[ix[100:150]]"
     ],
     "language": "python",
     "metadata": {},
     "outputs": [],
     "prompt_number": 10
    },
    {
     "cell_type": "code",
     "collapsed": false,
     "input": [
      "model = Sequential()\n",
      "model.add(Dense(16, input_dim=4, init='orthogonal', activation='tanh'))\n",
      "# model.add(Dropout(0.5)) # Dropout injects noise into the network and can sometimes help with overfitting\n",
      "model.add(Dense(16, init='orthogonal', activation='tanh'))\n",
      "# model.add(Dropout(0.5))\n",
      "model.add(Dense(3, init='orthogonal', activation='softmax')) # We need to have as many units as classes, \n",
      "                                                             # and softmax activation\n"
     ],
     "language": "python",
     "metadata": {},
     "outputs": [],
     "prompt_number": 11
    },
    {
     "cell_type": "code",
     "collapsed": false,
     "input": [
      "optimizer = Adam(lr=0.001, beta_1=0.9, beta_2=0.999, epsilon=1e-8)\n",
      "model.compile(loss='categorical_crossentropy', optimizer=optimizer)\n",
      "model.fit(X_tr, Y_tr, nb_epoch=10, batch_size=1, verbose=2)"
     ],
     "language": "python",
     "metadata": {},
     "outputs": [
      {
       "output_type": "stream",
       "stream": "stdout",
       "text": [
        "Epoch 1/10\n",
        "0s - loss: 0.9084\n",
        "Epoch 2/10\n",
        "0s - loss: 0.5796\n"
       ]
      },
      {
       "output_type": "stream",
       "stream": "stdout",
       "text": [
        "Epoch 3/10\n",
        "0s - loss: 0.4995\n",
        "Epoch 4/10\n",
        "0s - loss: 0.4475\n"
       ]
      },
      {
       "output_type": "stream",
       "stream": "stdout",
       "text": [
        "Epoch 5/10\n",
        "0s - loss: 0.4124\n",
        "Epoch 6/10\n",
        "0s - loss: 0.3666\n"
       ]
      },
      {
       "output_type": "stream",
       "stream": "stdout",
       "text": [
        "Epoch 7/10\n",
        "0s - loss: 0.3253\n",
        "Epoch 8/10\n",
        "0s - loss: 0.2983\n"
       ]
      },
      {
       "output_type": "stream",
       "stream": "stdout",
       "text": [
        "Epoch 9/10\n",
        "0s - loss: 0.2502\n",
        "Epoch 10/10\n",
        "0s - loss: 0.2206\n"
       ]
      },
      {
       "metadata": {},
       "output_type": "pyout",
       "prompt_number": 12,
       "text": [
        "<keras.callbacks.History at 0x7fd82cd20e90>"
       ]
      }
     ],
     "prompt_number": 12
    },
    {
     "cell_type": "markdown",
     "metadata": {},
     "source": [
      "## Output predicted class probabilities"
     ]
    },
    {
     "cell_type": "code",
     "collapsed": false,
     "input": [
      "model.predict_proba(X_te)"
     ],
     "language": "python",
     "metadata": {},
     "outputs": [
      {
       "output_type": "stream",
       "stream": "stdout",
       "text": [
        "\r",
        "50/50 [==============================] - 0s"
       ]
      },
      {
       "output_type": "stream",
       "stream": "stdout",
       "text": [
        "\n"
       ]
      },
      {
       "metadata": {},
       "output_type": "pyout",
       "prompt_number": 13,
       "text": [
        "array([[  8.44362614e-02,   8.31753044e-01,   8.38106950e-02],\n",
        "       [  9.80767482e-01,   1.88677524e-02,   3.64765358e-04],\n",
        "       [  3.01919972e-02,   8.32872356e-01,   1.36935647e-01],\n",
        "       [  3.53001533e-02,   7.92214086e-01,   1.72485760e-01],\n",
        "       [  5.21324006e-04,   8.41505179e-02,   9.15328158e-01],\n",
        "       [  9.72464897e-01,   2.70599655e-02,   4.75137962e-04],\n",
        "       [  9.54245691e-01,   4.49192627e-02,   8.35046660e-04],\n",
        "       [  6.19469646e-02,   8.35134351e-01,   1.02918684e-01],\n",
        "       [  6.32993175e-04,   1.15830528e-01,   8.83536479e-01],\n",
        "       [  6.05567551e-04,   1.32520979e-01,   8.66873453e-01],\n",
        "       [  9.77856419e-01,   2.17442619e-02,   3.99319263e-04],\n",
        "       [  9.79995466e-01,   1.96286262e-02,   3.75907596e-04],\n",
        "       [  4.09807636e-02,   8.43990431e-01,   1.15028806e-01],\n",
        "       [  9.70244102e-01,   2.91418019e-02,   6.14095793e-04],\n",
        "       [  1.14841886e-03,   1.37739208e-01,   8.61112373e-01],\n",
        "       [  2.33269971e-04,   5.86948308e-02,   9.41071899e-01],\n",
        "       [  6.05015766e-04,   8.57877240e-02,   9.13607260e-01],\n",
        "       [  5.05240265e-04,   8.83146683e-02,   9.11180091e-01],\n",
        "       [  9.73124482e-01,   2.63436256e-02,   5.31892198e-04],\n",
        "       [  6.64302511e-04,   8.48655539e-02,   9.14470144e-01],\n",
        "       [  9.66900214e-04,   1.12556952e-01,   8.86476148e-01],\n",
        "       [  9.72136257e-01,   2.73328647e-02,   5.30877900e-04],\n",
        "       [  8.32246951e-03,   5.66625544e-01,   4.25051986e-01],\n",
        "       [  1.09752220e-03,   1.78830924e-01,   8.20071554e-01],\n",
        "       [  9.76561168e-01,   2.30241211e-02,   4.14710366e-04],\n",
        "       [  1.03869858e-03,   1.30673484e-01,   8.68287817e-01],\n",
        "       [  9.73531211e-01,   2.60262030e-02,   4.42586478e-04],\n",
        "       [  9.60201002e-04,   1.23179833e-01,   8.75859966e-01],\n",
        "       [  2.78332604e-02,   8.07165361e-01,   1.65001379e-01],\n",
        "       [  9.70267938e-01,   2.91575577e-02,   5.74504594e-04],\n",
        "       [  9.64796536e-01,   3.45271732e-02,   6.76290376e-04],\n",
        "       [  3.30472951e-02,   7.77454629e-01,   1.89498076e-01],\n",
        "       [  5.89946523e-04,   1.17113354e-01,   8.82296700e-01],\n",
        "       [  2.85295965e-03,   2.91554342e-01,   7.05592698e-01],\n",
        "       [  1.54799791e-03,   2.02749547e-01,   7.95702456e-01],\n",
        "       [  9.32637080e-03,   5.67437403e-01,   4.23236226e-01],\n",
        "       [  1.60250600e-01,   7.87269124e-01,   5.24802759e-02],\n",
        "       [  2.55373531e-03,   3.46055800e-01,   6.51390465e-01],\n",
        "       [  9.77937796e-01,   2.16404733e-02,   4.21730348e-04],\n",
        "       [  3.95694066e-02,   8.49948916e-01,   1.10481678e-01],\n",
        "       [  9.77029563e-01,   2.25770554e-02,   3.93382068e-04],\n",
        "       [  2.70017302e-03,   2.80308410e-01,   7.16991417e-01],\n",
        "       [  4.39206748e-02,   8.42711162e-01,   1.13368163e-01],\n",
        "       [  1.40305656e-02,   6.82981261e-01,   3.02988174e-01],\n",
        "       [  3.64459681e-04,   8.21537105e-02,   9.17481830e-01],\n",
        "       [  9.78055733e-01,   2.15411042e-02,   4.03162444e-04],\n",
        "       [  8.20182412e-03,   5.43864592e-01,   4.47933584e-01],\n",
        "       [  9.53263429e-03,   6.22944068e-01,   3.67523298e-01],\n",
        "       [  9.75024646e-01,   2.45603943e-02,   4.14959832e-04],\n",
        "       [  2.93176111e-02,   8.10925712e-01,   1.59756677e-01]])"
       ]
      }
     ],
     "prompt_number": 13
    },
    {
     "cell_type": "markdown",
     "metadata": {},
     "source": [
      "## Calculate accuracy"
     ]
    },
    {
     "cell_type": "code",
     "collapsed": false,
     "input": [
      "model.predict_classes(X_te)"
     ],
     "language": "python",
     "metadata": {},
     "outputs": [
      {
       "output_type": "stream",
       "stream": "stdout",
       "text": [
        "\r",
        "50/50 [==============================] - 0s"
       ]
      },
      {
       "output_type": "stream",
       "stream": "stdout",
       "text": [
        "\n"
       ]
      },
      {
       "metadata": {},
       "output_type": "pyout",
       "prompt_number": 14,
       "text": [
        "array([1, 0, 1, 1, 2, 0, 0, 1, 2, 2, 0, 0, 1, 0, 2, 2, 2, 2, 0, 2, 2, 0, 1,\n",
        "       2, 0, 2, 0, 2, 1, 0, 0, 1, 2, 2, 2, 1, 1, 2, 0, 1, 0, 2, 1, 1, 2, 0,\n",
        "       1, 1, 0, 1])"
       ]
      }
     ],
     "prompt_number": 14
    },
    {
     "cell_type": "code",
     "collapsed": false,
     "input": [
      "numpy.mean(model.predict_classes(X_te) == y_te)"
     ],
     "language": "python",
     "metadata": {},
     "outputs": [
      {
       "output_type": "stream",
       "stream": "stdout",
       "text": [
        "\r",
        "50/50 [==============================] - 0s"
       ]
      },
      {
       "output_type": "stream",
       "stream": "stdout",
       "text": [
        "\n"
       ]
      },
      {
       "metadata": {},
       "output_type": "pyout",
       "prompt_number": 15,
       "text": [
        "0.97999999999999998"
       ]
      }
     ],
     "prompt_number": 15
    },
    {
     "cell_type": "markdown",
     "metadata": {},
     "source": [
      "## GPU\n",
      "\n",
      "- It only makes sense to use NN models on very large datasets\n",
      "- In order to train them in reasonable time you need to run them on a GPU\n",
      "- Need access to GPU machines\n",
      "- Setting environment variable THEANO_FLAGS to appropriate value, and run with ``nohup`` via command line"
     ]
    }
   ],
   "metadata": {}
  }
 ]
}