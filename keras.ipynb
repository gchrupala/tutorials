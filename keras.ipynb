{
 "metadata": {
  "name": ""
 },
 "nbformat": 3,
 "nbformat_minor": 0,
 "worksheets": [
  {
   "cells": [
    {
     "cell_type": "markdown",
     "metadata": {},
     "source": [
      "# Getting started with neural networks in Keras\n",
      "\n",
      "- https://github.com/fchollet/keras\n",
      "\n",
      "## Keras vs Theano\n",
      "\n",
      "- Keras is a wrapper on top of the [Theano](http://deeplearning.net/software/theano/) toolkit\n",
      "- Many standard models are very easy to define and use in Keras\n",
      "- More complicated models are often easier to implement directly in Theano"
     ]
    },
    {
     "cell_type": "markdown",
     "metadata": {},
     "source": [
      "## GPU\n",
      "\n",
      "- Usually NN models work best when trained on very large datasets\n",
      "- In order to train them in reasonable time, it's best to run them on a GPU"
     ]
    },
    {
     "cell_type": "markdown",
     "metadata": {},
     "source": [
      "## XOR\n",
      "\n",
      "Let's start with the [XOR problem](https://en.wikipedia.org/wiki/XOR_gate). "
     ]
    },
    {
     "cell_type": "code",
     "collapsed": false,
     "input": [
      "import numpy\n",
      "%pylab inline"
     ],
     "language": "python",
     "metadata": {},
     "outputs": [
      {
       "output_type": "stream",
       "stream": "stdout",
       "text": [
        "Populating the interactive namespace from numpy and matplotlib\n"
       ]
      }
     ],
     "prompt_number": 1
    },
    {
     "cell_type": "code",
     "collapsed": false,
     "input": [
      "import numpy\n",
      "def xor(x,y):\n",
      "    return x+y == 1\n",
      "x = numpy.array([0,0,1,1])\n",
      "y = numpy.array([1,0,1,0])\n",
      "pylab.figure(figsize(6,6))\n",
      "pylab.rcParams['font.size'] = 16\n",
      "pylab.scatter(x, y, s=130, c=xor(x, y), alpha=0.7)\n",
      "pylab.savefig('xor.svg')"
     ],
     "language": "python",
     "metadata": {},
     "outputs": [
      {
       "output_type": "stream",
       "stream": "stderr",
       "text": [
        "/usr/lib/python3/dist-packages/matplotlib/collections.py:549: FutureWarning: elementwise comparison failed; returning scalar instead, but in the future will perform elementwise comparison\n",
        "  if self._edgecolors == 'face':\n"
       ]
      },
      {
       "metadata": {},
       "output_type": "display_data",
       "png": "[encoded data removed]",
       "text": [
        "<matplotlib.figure.Figure at 0x7f48f166ffd0>"
       ]
      }
     ],
     "prompt_number": 2
    },
    {
     "cell_type": "markdown",
     "metadata": {},
     "source": [
      "Can we classify these using logistic regression?"
     ]
    },
    {
     "cell_type": "code",
     "collapsed": false,
     "input": [
      "X = numpy.array([[0, 0],      # FALSE\n",
      "                 [0, 1],      # TRUE\n",
      "                 [1, 0],      # TRUE\n",
      "                 [1, 1]])     # FALSE\n",
      "y = numpy.array([0,1,1,0])"
     ],
     "language": "python",
     "metadata": {},
     "outputs": [],
     "prompt_number": 3
    },
    {
     "cell_type": "code",
     "collapsed": false,
     "input": [
      "from sklearn.linear_model import SGDClassifier\n",
      "LR = SGDClassifier(loss='log', n_iter=100)\n",
      "LR.fit(X, y)"
     ],
     "language": "python",
     "metadata": {},
     "outputs": [
      {
       "metadata": {},
       "output_type": "pyout",
       "prompt_number": 4,
       "text": [
        "SGDClassifier(alpha=0.0001, average=False, class_weight=None, epsilon=0.1,\n",
        "       eta0=0.0, fit_intercept=True, l1_ratio=0.15,\n",
        "       learning_rate='optimal', loss='log', n_iter=100, n_jobs=1,\n",
        "       penalty='l2', power_t=0.5, random_state=None, shuffle=True,\n",
        "       verbose=0, warm_start=False)"
       ]
      }
     ],
     "prompt_number": 4
    },
    {
     "cell_type": "code",
     "collapsed": false,
     "input": [
      "LR.predict_proba(X)"
     ],
     "language": "python",
     "metadata": {},
     "outputs": [
      {
       "metadata": {},
       "output_type": "pyout",
       "prompt_number": 5,
       "text": [
        "array([[  9.65937627e-01,   3.40623734e-02],\n",
        "       [  9.77769479e-01,   2.22305206e-02],\n",
        "       [  9.99964585e-01,   3.54152738e-05],\n",
        "       [  9.99977166e-01,   2.28340739e-05]])"
       ]
      }
     ],
     "prompt_number": 5
    },
    {
     "cell_type": "markdown",
     "metadata": {},
     "source": [
      "Plot the predicted probabilities."
     ]
    },
    {
     "cell_type": "code",
     "collapsed": false,
     "input": [
      "# Create a grid of points\n",
      "shape=(20,20)\n",
      "grid = numpy.array([ [i,j] for i in numpy.linspace(0,1,shape[0]) \n",
      "                                for j in numpy.linspace(0,1,shape[1]) ])\n",
      "\n",
      "# Apply the neural net to all the points\n",
      "y_pred = LR.predict_proba(grid)[:,1].reshape(shape)\n",
      "pylab.pcolor(y_pred)\n",
      "pylab.colorbar()\n",
      "pylab.xticks([])\n",
      "pylab.yticks([])"
     ],
     "language": "python",
     "metadata": {},
     "outputs": [
      {
       "metadata": {},
       "output_type": "pyout",
       "prompt_number": 6,
       "text": [
        "([], <a list of 0 Text yticklabel objects>)"
       ]
      },
      {
       "output_type": "stream",
       "stream": "stderr",
       "text": [
        "/usr/lib/python3/dist-packages/matplotlib/collections.py:549: FutureWarning: elementwise comparison failed; returning scalar instead, but in the future will perform elementwise comparison\n",
        "  if self._edgecolors == 'face':\n"
       ]
      },
      {
       "metadata": {},
       "output_type": "display_data",
       "png": "[encoded data removed]",
       "text": [
        "<matplotlib.figure.Figure at 0x7f48e3f75cf8>"
       ]
      }
     ],
     "prompt_number": 6
    },
    {
     "cell_type": "markdown",
     "metadata": {},
     "source": [
      "## Neural network\n",
      "We can define a simple two layer neural network by hand which solves the XOR classification problem."
     ]
    },
    {
     "cell_type": "code",
     "collapsed": false,
     "input": [
      "def activation(x):\n",
      "    return x >= 0.5\n",
      "    \n",
      "def nnet(W,U,x):\n",
      "    Z = activation(numpy.dot(W,numpy.transpose(x)))\n",
      "    return activation(numpy.dot(U,Z))"
     ],
     "language": "python",
     "metadata": {},
     "outputs": [],
     "prompt_number": 7
    },
    {
     "cell_type": "markdown",
     "metadata": {},
     "source": [
      "Define the weights:"
     ]
    },
    {
     "cell_type": "code",
     "collapsed": false,
     "input": [
      "W = numpy.array([[1,-1],\n",
      "                 [-1,1]])\n",
      "U = numpy.array([1,1])"
     ],
     "language": "python",
     "metadata": {},
     "outputs": [],
     "prompt_number": 8
    },
    {
     "cell_type": "markdown",
     "metadata": {},
     "source": [
      "Check what it outputs"
     ]
    },
    {
     "cell_type": "code",
     "collapsed": false,
     "input": [
      "y_pred = nnet(W, U, X)\n",
      "print(y_pred)"
     ],
     "language": "python",
     "metadata": {},
     "outputs": [
      {
       "output_type": "stream",
       "stream": "stdout",
       "text": [
        "[False  True  True False]\n"
       ]
      }
     ],
     "prompt_number": 9
    },
    {
     "cell_type": "markdown",
     "metadata": {},
     "source": [
      "And plot the outputs as a function of inputs."
     ]
    },
    {
     "cell_type": "code",
     "collapsed": false,
     "input": [
      "# Apply the neural net to all the points\n",
      "y_pred = nnet(W, U, grid)\n",
      "pylab.pcolor(y_pred.reshape((20,20)))\n",
      "pylab.colorbar()\n",
      "pylab.xticks([])\n",
      "pylab.yticks([])"
     ],
     "language": "python",
     "metadata": {},
     "outputs": [
      {
       "metadata": {},
       "output_type": "pyout",
       "prompt_number": 10,
       "text": [
        "([], <a list of 0 Text yticklabel objects>)"
       ]
      },
      {
       "metadata": {},
       "output_type": "display_data",
       "png": "[encoded data removed]",
       "text": [
        "<matplotlib.figure.Figure at 0x7f48f159a2e8>"
       ]
      }
     ],
     "prompt_number": 10
    },
    {
     "cell_type": "markdown",
     "metadata": {},
     "source": [
      "## Training XOR NN with Keras"
     ]
    },
    {
     "cell_type": "code",
     "collapsed": false,
     "input": [
      "from keras.models import Sequential\n",
      "from keras.layers.core import Dense, Dropout, Activation\n",
      "from keras.optimizers import SGD, Adam"
     ],
     "language": "python",
     "metadata": {},
     "outputs": [
      {
       "output_type": "stream",
       "stream": "stderr",
       "text": [
        "Using Theano backend.\n",
        "/home/gchrupala/.local/lib/python3.4/site-packages/theano/tensor/signal/downsample.py:6: UserWarning: downsample module has been moved to the theano.tensor.signal.pool module.\n",
        "  \"downsample module has been moved to the theano.tensor.signal.pool module.\")\n"
       ]
      }
     ],
     "prompt_number": 11
    },
    {
     "cell_type": "code",
     "collapsed": false,
     "input": [
      "model = Sequential()\n",
      "# Add two hidden layers with 4 hidden units each\n",
      "model.add(Dense(4, input_dim=2, init='orthogonal', activation='tanh'))\n",
      "model.add(Dense(4, init='orthogonal', activation='tanh'))\n",
      "model.add(Dense(1, init='orthogonal', activation='sigmoid'))"
     ],
     "language": "python",
     "metadata": {},
     "outputs": [],
     "prompt_number": 12
    },
    {
     "cell_type": "code",
     "collapsed": false,
     "input": [
      "# Use SGD optimizer, setting some extra options\n",
      "optimizer = SGD(lr=0.01, decay=1e-6, momentum=0.9, nesterov=True)\n",
      "model.compile(loss='binary_crossentropy', optimizer=optimizer)\n",
      "model.fit(X, y, nb_epoch=100, batch_size=1, verbose=0)"
     ],
     "language": "python",
     "metadata": {},
     "outputs": [
      {
       "metadata": {},
       "output_type": "pyout",
       "prompt_number": 13,
       "text": [
        "<keras.callbacks.History at 0x7f48e3f377b8>"
       ]
      }
     ],
     "prompt_number": 13
    },
    {
     "cell_type": "code",
     "collapsed": false,
     "input": [
      "model.predict(X)"
     ],
     "language": "python",
     "metadata": {},
     "outputs": [
      {
       "metadata": {},
       "output_type": "pyout",
       "prompt_number": 14,
       "text": [
        "array([[ 0.02049018],\n",
        "       [ 0.93535733],\n",
        "       [ 0.97702062],\n",
        "       [ 0.06342781]])"
       ]
      }
     ],
     "prompt_number": 14
    },
    {
     "cell_type": "code",
     "collapsed": false,
     "input": [
      "# Apply the neural net to all the points\n",
      "y_pred = model.predict(grid)\n",
      "pylab.pcolor(y_pred.reshape((20,20)))\n",
      "pylab.colorbar()\n",
      "pylab.xticks([])\n",
      "pylab.yticks([])"
     ],
     "language": "python",
     "metadata": {},
     "outputs": [
      {
       "metadata": {},
       "output_type": "pyout",
       "prompt_number": 15,
       "text": [
        "([], <a list of 0 Text yticklabel objects>)"
       ]
      },
      {
       "output_type": "stream",
       "stream": "stderr",
       "text": [
        "/usr/lib/python3/dist-packages/matplotlib/collections.py:549: FutureWarning: elementwise comparison failed; returning scalar instead, but in the future will perform elementwise comparison\n",
        "  if self._edgecolors == 'face':\n"
       ]
      },
      {
       "metadata": {},
       "output_type": "display_data",
       "png": "[encoded data removed]",
       "text": [
        "<matplotlib.figure.Figure at 0x7f48dacb5c88>"
       ]
      }
     ],
     "prompt_number": 15
    },
    {
     "cell_type": "markdown",
     "metadata": {},
     "source": [
      "## Regression with NN on iris\n",
      "\n",
      "### Load data"
     ]
    },
    {
     "cell_type": "code",
     "collapsed": false,
     "input": [
      "import numpy\n",
      "from sklearn.datasets import load_iris\n",
      "data = load_iris()\n",
      "# Inputs\n",
      "X = numpy.array(data.data[:,0:3], dtype='float32')\n",
      "# Output\n",
      "y = numpy.array(data.data[:,3], dtype='float32')\n",
      "\n",
      "print(X.shape)\n",
      "print(y.shape)"
     ],
     "language": "python",
     "metadata": {},
     "outputs": [
      {
       "output_type": "stream",
       "stream": "stdout",
       "text": [
        "(150, 3)\n",
        "(150,)\n"
       ]
      }
     ],
     "prompt_number": 16
    },
    {
     "cell_type": "markdown",
     "metadata": {},
     "source": [
      "## Train/test split"
     ]
    },
    {
     "cell_type": "code",
     "collapsed": false,
     "input": [
      "ix = numpy.arange(0,X.shape[0]) ; numpy.random.shuffle(ix)\n",
      "X_tr = X[ix[0:100]]\n",
      "X_te = X[ix[100:150]]\n",
      "y_tr = y[ix[0:100]]\n",
      "y_te=  y[ix[100:150]]"
     ],
     "language": "python",
     "metadata": {},
     "outputs": [],
     "prompt_number": 17
    },
    {
     "cell_type": "markdown",
     "metadata": {},
     "source": [
      "## Define a regression model \n",
      "\n",
      "We'll use a fully connected feedforward network. This type of model is also known as a multi-layer perceptron (MLP)"
     ]
    },
    {
     "cell_type": "code",
     "collapsed": false,
     "input": [
      "model = Sequential()\n",
      "model.add(Dense(16, input_dim=3, init='orthogonal', activation='tanh'))\n",
      "# model.add(Dropout(0.5)) # Dropout injects noise into the network and can sometimes help with overfitting\n",
      "model.add(Dense(16, init='orthogonal', activation='tanh'))\n",
      "# model.add(Dropout(0.5))\n",
      "model.add(Dense(1, init='orthogonal', activation='linear'))\n",
      "\n"
     ],
     "language": "python",
     "metadata": {},
     "outputs": [],
     "prompt_number": 18
    },
    {
     "cell_type": "markdown",
     "metadata": {},
     "source": [
      "## Compile and train the model"
     ]
    },
    {
     "cell_type": "code",
     "collapsed": false,
     "input": [
      "#sgd = SGD(lr=0.01, decay=1e-6, momentum=0.9, nesterov=True)\n",
      "optimizer = Adam(lr=0.0001, beta_1=0.9, beta_2=0.999, epsilon=1e-8)\n",
      "model.compile(loss='mean_squared_error', optimizer=optimizer)\n",
      "model.fit(X_tr, y_tr, nb_epoch=10, batch_size=1, verbose=2)"
     ],
     "language": "python",
     "metadata": {},
     "outputs": [
      {
       "output_type": "stream",
       "stream": "stdout",
       "text": [
        "Epoch 1/10\n",
        "0s - loss: 2.4888\n",
        "Epoch 2/10\n",
        "0s - loss: 1.5956\n"
       ]
      },
      {
       "output_type": "stream",
       "stream": "stdout",
       "text": [
        "Epoch 3/10\n",
        "0s - loss: 1.0063\n",
        "Epoch 4/10\n",
        "0s - loss: 0.6409\n"
       ]
      },
      {
       "output_type": "stream",
       "stream": "stdout",
       "text": [
        "Epoch 5/10\n",
        "0s - loss: 0.4367\n",
        "Epoch 6/10\n",
        "0s - loss: 0.3250\n"
       ]
      },
      {
       "output_type": "stream",
       "stream": "stdout",
       "text": [
        "Epoch 7/10\n",
        "0s - loss: 0.2541\n",
        "Epoch 8/10\n",
        "0s - loss: 0.2080\n"
       ]
      },
      {
       "output_type": "stream",
       "stream": "stdout",
       "text": [
        "Epoch 9/10\n",
        "0s - loss: 0.1745\n",
        "Epoch 10/10\n",
        "0s - loss: 0.1482\n"
       ]
      },
      {
       "metadata": {},
       "output_type": "pyout",
       "prompt_number": 19,
       "text": [
        "<keras.callbacks.History at 0x7f490806d550>"
       ]
      }
     ],
     "prompt_number": 19
    },
    {
     "cell_type": "markdown",
     "metadata": {},
     "source": [
      "## Use trained model to generate predictions"
     ]
    },
    {
     "cell_type": "code",
     "collapsed": false,
     "input": [
      "y_pred = model.predict(X_te)\n",
      "y_pred.reshape((50,))"
     ],
     "language": "python",
     "metadata": {},
     "outputs": [
      {
       "metadata": {},
       "output_type": "pyout",
       "prompt_number": 20,
       "text": [
        "array([ 0.54007649,  0.4632498 ,  1.41045713,  0.47171399,  0.48868445,\n",
        "        1.49009049,  1.61285377,  0.51989359,  1.41604781,  1.5400095 ,\n",
        "        1.48372126,  0.56806976,  1.41495955,  0.52971369,  1.60362315,\n",
        "        1.73896241,  1.43783569,  1.57985938,  1.66784632,  0.48125646,\n",
        "        1.61571455,  0.49308324,  0.51575708,  1.42632151,  1.49092829,\n",
        "        0.56178015,  0.51492655,  0.48868445,  1.51283967,  1.64752722,\n",
        "        0.64627308,  0.6112929 ,  1.44107234,  1.52837586,  1.43462491,\n",
        "        1.52545583,  1.6230855 ,  0.51262951,  1.64626682,  0.57562613,\n",
        "        1.5790844 ,  1.54536498,  0.59973019,  1.56147778,  0.56178015,\n",
        "        1.7058748 ,  0.37269312,  1.40907454,  0.54948872,  1.39862585])"
       ]
      }
     ],
     "prompt_number": 20
    },
    {
     "cell_type": "markdown",
     "metadata": {},
     "source": [
      "# Compute Mean Absolute Error"
     ]
    },
    {
     "cell_type": "code",
     "collapsed": false,
     "input": [
      "numpy.mean(numpy.abs(y_pred - y))"
     ],
     "language": "python",
     "metadata": {},
     "outputs": [
      {
       "metadata": {},
       "output_type": "pyout",
       "prompt_number": 21,
       "text": [
        "0.7559703921357791"
       ]
      }
     ],
     "prompt_number": 21
    },
    {
     "cell_type": "markdown",
     "metadata": {},
     "source": [
      "We can also use the ``evaluate`` method which will compute the specified loss function (MSE)"
     ]
    },
    {
     "cell_type": "code",
     "collapsed": false,
     "input": [
      "model.evaluate(X_te, y_te)"
     ],
     "language": "python",
     "metadata": {},
     "outputs": [
      {
       "output_type": "stream",
       "stream": "stdout",
       "text": [
        "\r",
        "50/50 [==============================] - 0s"
       ]
      },
      {
       "output_type": "stream",
       "stream": "stdout",
       "text": [
        "\n"
       ]
      },
      {
       "metadata": {},
       "output_type": "pyout",
       "prompt_number": 22,
       "text": [
        "0.10613070428371429"
       ]
      }
     ],
     "prompt_number": 22
    },
    {
     "cell_type": "markdown",
     "metadata": {},
     "source": [
      "## Classification\n",
      "\n",
      "Prepare the data"
     ]
    },
    {
     "cell_type": "code",
     "collapsed": false,
     "input": [
      "# Inputs\n",
      "X = numpy.array(data.data, dtype='float32')\n",
      "# Output\n",
      "y = numpy.array(data.target, dtype='int32')\n",
      "y"
     ],
     "language": "python",
     "metadata": {},
     "outputs": [
      {
       "metadata": {},
       "output_type": "pyout",
       "prompt_number": 23,
       "text": [
        "array([0, 0, 0, 0, 0, 0, 0, 0, 0, 0, 0, 0, 0, 0, 0, 0, 0, 0, 0, 0, 0, 0, 0,\n",
        "       0, 0, 0, 0, 0, 0, 0, 0, 0, 0, 0, 0, 0, 0, 0, 0, 0, 0, 0, 0, 0, 0, 0,\n",
        "       0, 0, 0, 0, 1, 1, 1, 1, 1, 1, 1, 1, 1, 1, 1, 1, 1, 1, 1, 1, 1, 1, 1,\n",
        "       1, 1, 1, 1, 1, 1, 1, 1, 1, 1, 1, 1, 1, 1, 1, 1, 1, 1, 1, 1, 1, 1, 1,\n",
        "       1, 1, 1, 1, 1, 1, 1, 1, 2, 2, 2, 2, 2, 2, 2, 2, 2, 2, 2, 2, 2, 2, 2,\n",
        "       2, 2, 2, 2, 2, 2, 2, 2, 2, 2, 2, 2, 2, 2, 2, 2, 2, 2, 2, 2, 2, 2, 2,\n",
        "       2, 2, 2, 2, 2, 2, 2, 2, 2, 2, 2, 2], dtype=int32)"
       ]
      }
     ],
     "prompt_number": 23
    },
    {
     "cell_type": "code",
     "collapsed": false,
     "input": [
      "# One-hot Indicator array for classes\n",
      "from sklearn.preprocessing import OneHotEncoder, LabelEncoder\n",
      "Y = OneHotEncoder().fit_transform(y.reshape((150,1))).todense()\n",
      "# Or do it by hand\n",
      "#Y = numpy.zeros((150,3))\n",
      "#for k in range(0,3):\n",
      "#    Y[y==k,k]=1\n",
      "print(Y)"
     ],
     "language": "python",
     "metadata": {},
     "outputs": [
      {
       "output_type": "stream",
       "stream": "stdout",
       "text": [
        "[[ 1.  0.  0.]\n",
        " [ 1.  0.  0.]\n",
        " [ 1.  0.  0.]\n",
        " [ 1.  0.  0.]\n",
        " [ 1.  0.  0.]\n",
        " [ 1.  0.  0.]\n",
        " [ 1.  0.  0.]\n",
        " [ 1.  0.  0.]\n",
        " [ 1.  0.  0.]\n",
        " [ 1.  0.  0.]\n",
        " [ 1.  0.  0.]\n",
        " [ 1.  0.  0.]\n",
        " [ 1.  0.  0.]\n",
        " [ 1.  0.  0.]\n",
        " [ 1.  0.  0.]\n",
        " [ 1.  0.  0.]\n",
        " [ 1.  0.  0.]\n",
        " [ 1.  0.  0.]\n",
        " [ 1.  0.  0.]\n",
        " [ 1.  0.  0.]\n",
        " [ 1.  0.  0.]\n",
        " [ 1.  0.  0.]\n",
        " [ 1.  0.  0.]\n",
        " [ 1.  0.  0.]\n",
        " [ 1.  0.  0.]\n",
        " [ 1.  0.  0.]\n",
        " [ 1.  0.  0.]\n",
        " [ 1.  0.  0.]\n",
        " [ 1.  0.  0.]\n",
        " [ 1.  0.  0.]\n",
        " [ 1.  0.  0.]\n",
        " [ 1.  0.  0.]\n",
        " [ 1.  0.  0.]\n",
        " [ 1.  0.  0.]\n",
        " [ 1.  0.  0.]\n",
        " [ 1.  0.  0.]\n",
        " [ 1.  0.  0.]\n",
        " [ 1.  0.  0.]\n",
        " [ 1.  0.  0.]\n",
        " [ 1.  0.  0.]\n",
        " [ 1.  0.  0.]\n",
        " [ 1.  0.  0.]\n",
        " [ 1.  0.  0.]\n",
        " [ 1.  0.  0.]\n",
        " [ 1.  0.  0.]\n",
        " [ 1.  0.  0.]\n",
        " [ 1.  0.  0.]\n",
        " [ 1.  0.  0.]\n",
        " [ 1.  0.  0.]\n",
        " [ 1.  0.  0.]\n",
        " [ 0.  1.  0.]\n",
        " [ 0.  1.  0.]\n",
        " [ 0.  1.  0.]\n",
        " [ 0.  1.  0.]\n",
        " [ 0.  1.  0.]\n",
        " [ 0.  1.  0.]\n",
        " [ 0.  1.  0.]\n",
        " [ 0.  1.  0.]\n",
        " [ 0.  1.  0.]\n",
        " [ 0.  1.  0.]\n",
        " [ 0.  1.  0.]\n",
        " [ 0.  1.  0.]\n",
        " [ 0.  1.  0.]\n",
        " [ 0.  1.  0.]\n",
        " [ 0.  1.  0.]\n",
        " [ 0.  1.  0.]\n",
        " [ 0.  1.  0.]\n",
        " [ 0.  1.  0.]\n",
        " [ 0.  1.  0.]\n",
        " [ 0.  1.  0.]\n",
        " [ 0.  1.  0.]\n",
        " [ 0.  1.  0.]\n",
        " [ 0.  1.  0.]\n",
        " [ 0.  1.  0.]\n",
        " [ 0.  1.  0.]\n",
        " [ 0.  1.  0.]\n",
        " [ 0.  1.  0.]\n",
        " [ 0.  1.  0.]\n",
        " [ 0.  1.  0.]\n",
        " [ 0.  1.  0.]\n",
        " [ 0.  1.  0.]\n",
        " [ 0.  1.  0.]\n",
        " [ 0.  1.  0.]\n",
        " [ 0.  1.  0.]\n",
        " [ 0.  1.  0.]\n",
        " [ 0.  1.  0.]\n",
        " [ 0.  1.  0.]\n",
        " [ 0.  1.  0.]\n",
        " [ 0.  1.  0.]\n",
        " [ 0.  1.  0.]\n",
        " [ 0.  1.  0.]\n",
        " [ 0.  1.  0.]\n",
        " [ 0.  1.  0.]\n",
        " [ 0.  1.  0.]\n",
        " [ 0.  1.  0.]\n",
        " [ 0.  1.  0.]\n",
        " [ 0.  1.  0.]\n",
        " [ 0.  1.  0.]\n",
        " [ 0.  1.  0.]\n",
        " [ 0.  1.  0.]\n",
        " [ 0.  0.  1.]\n",
        " [ 0.  0.  1.]\n",
        " [ 0.  0.  1.]\n",
        " [ 0.  0.  1.]\n",
        " [ 0.  0.  1.]\n",
        " [ 0.  0.  1.]\n",
        " [ 0.  0.  1.]\n",
        " [ 0.  0.  1.]\n",
        " [ 0.  0.  1.]\n",
        " [ 0.  0.  1.]\n",
        " [ 0.  0.  1.]\n",
        " [ 0.  0.  1.]\n",
        " [ 0.  0.  1.]\n",
        " [ 0.  0.  1.]\n",
        " [ 0.  0.  1.]\n",
        " [ 0.  0.  1.]\n",
        " [ 0.  0.  1.]\n",
        " [ 0.  0.  1.]\n",
        " [ 0.  0.  1.]\n",
        " [ 0.  0.  1.]\n",
        " [ 0.  0.  1.]\n",
        " [ 0.  0.  1.]\n",
        " [ 0.  0.  1.]\n",
        " [ 0.  0.  1.]\n",
        " [ 0.  0.  1.]\n",
        " [ 0.  0.  1.]\n",
        " [ 0.  0.  1.]\n",
        " [ 0.  0.  1.]\n",
        " [ 0.  0.  1.]\n",
        " [ 0.  0.  1.]\n",
        " [ 0.  0.  1.]\n",
        " [ 0.  0.  1.]\n",
        " [ 0.  0.  1.]\n",
        " [ 0.  0.  1.]\n",
        " [ 0.  0.  1.]\n",
        " [ 0.  0.  1.]\n",
        " [ 0.  0.  1.]\n",
        " [ 0.  0.  1.]\n",
        " [ 0.  0.  1.]\n",
        " [ 0.  0.  1.]\n",
        " [ 0.  0.  1.]\n",
        " [ 0.  0.  1.]\n",
        " [ 0.  0.  1.]\n",
        " [ 0.  0.  1.]\n",
        " [ 0.  0.  1.]\n",
        " [ 0.  0.  1.]\n",
        " [ 0.  0.  1.]\n",
        " [ 0.  0.  1.]\n",
        " [ 0.  0.  1.]\n",
        " [ 0.  0.  1.]]\n"
       ]
      }
     ],
     "prompt_number": 24
    },
    {
     "cell_type": "code",
     "collapsed": false,
     "input": [
      "X_tr = X[ix[0:100]]\n",
      "X_te = X[ix[100:150]]\n",
      "Y_tr = Y[ix[0:100]]\n",
      "Y_te = Y[ix[100:150]]\n",
      "y_te = y[ix[100:150]]"
     ],
     "language": "python",
     "metadata": {},
     "outputs": [],
     "prompt_number": 25
    },
    {
     "cell_type": "code",
     "collapsed": false,
     "input": [
      "model = Sequential()\n",
      "model.add(Dense(16, input_dim=4, init='orthogonal', activation='tanh'))\n",
      "# model.add(Dropout(0.5)) # Dropout injects noise into the network and can sometimes help with overfitting\n",
      "model.add(Dense(16, init='orthogonal', activation='tanh'))\n",
      "# model.add(Dropout(0.5))\n",
      "model.add(Dense(3, init='orthogonal', activation='softmax')) # We need to have as many units as classes, \n",
      "                                                             # and softmax activation\n"
     ],
     "language": "python",
     "metadata": {},
     "outputs": [],
     "prompt_number": 26
    },
    {
     "cell_type": "code",
     "collapsed": false,
     "input": [
      "optimizer = Adam(lr=0.001, beta_1=0.9, beta_2=0.999, epsilon=1e-8)\n",
      "# For classification, the loss function should be categorical_crossentropy\n",
      "model.compile(loss='categorical_crossentropy', optimizer=optimizer)\n",
      "model.fit(X_tr, Y_tr, nb_epoch=10, batch_size=1, verbose=2)"
     ],
     "language": "python",
     "metadata": {},
     "outputs": [
      {
       "output_type": "stream",
       "stream": "stdout",
       "text": [
        "Epoch 1/10\n",
        "0s - loss: 1.1224\n",
        "Epoch 2/10\n",
        "0s - loss: 0.8356\n"
       ]
      },
      {
       "output_type": "stream",
       "stream": "stdout",
       "text": [
        "Epoch 3/10\n",
        "0s - loss: 0.6296\n",
        "Epoch 4/10\n",
        "0s - loss: 0.5187\n"
       ]
      },
      {
       "output_type": "stream",
       "stream": "stdout",
       "text": [
        "Epoch 5/10\n",
        "0s - loss: 0.4373\n",
        "Epoch 6/10\n",
        "0s - loss: 0.3836\n"
       ]
      },
      {
       "output_type": "stream",
       "stream": "stdout",
       "text": [
        "Epoch 7/10\n",
        "0s - loss: 0.3239\n",
        "Epoch 8/10\n",
        "0s - loss: 0.2932\n"
       ]
      },
      {
       "output_type": "stream",
       "stream": "stdout",
       "text": [
        "Epoch 9/10\n",
        "0s - loss: 0.2585\n",
        "Epoch 10/10\n",
        "0s - loss: 0.2169\n"
       ]
      },
      {
       "metadata": {},
       "output_type": "pyout",
       "prompt_number": 27,
       "text": [
        "<keras.callbacks.History at 0x7f4908071ac8>"
       ]
      }
     ],
     "prompt_number": 27
    },
    {
     "cell_type": "markdown",
     "metadata": {},
     "source": [
      "## Output predicted class probabilities"
     ]
    },
    {
     "cell_type": "code",
     "collapsed": false,
     "input": [
      "model.predict_proba(X_te)"
     ],
     "language": "python",
     "metadata": {},
     "outputs": [
      {
       "output_type": "stream",
       "stream": "stdout",
       "text": [
        "\r",
        "50/50 [==============================] - 0s"
       ]
      },
      {
       "output_type": "stream",
       "stream": "stdout",
       "text": [
        "\n"
       ]
      },
      {
       "metadata": {},
       "output_type": "pyout",
       "prompt_number": 28,
       "text": [
        "array([[  9.59694624e-01,   3.97620872e-02,   5.43293485e-04],\n",
        "       [  9.66628492e-01,   3.29508074e-02,   4.20692289e-04],\n",
        "       [  2.73186956e-02,   6.51184201e-01,   3.21497113e-01],\n",
        "       [  9.63047743e-01,   3.65138315e-02,   4.38399002e-04],\n",
        "       [  9.64350998e-01,   3.52066606e-02,   4.42353456e-04],\n",
        "       [  1.50890006e-02,   4.70907629e-01,   5.14003396e-01],\n",
        "       [  3.26829078e-03,   1.02375969e-01,   8.94355714e-01],\n",
        "       [  9.56601441e-01,   4.28749882e-02,   5.23567025e-04],\n",
        "       [  3.48194242e-02,   6.87650204e-01,   2.77530372e-01],\n",
        "       [  1.37998173e-02,   4.72852647e-01,   5.13347566e-01],\n",
        "       [  1.18664149e-02,   2.91372091e-01,   6.96761489e-01],\n",
        "       [  9.57926989e-01,   4.14945669e-02,   5.78465173e-04],\n",
        "       [  2.49943770e-02,   5.60371518e-01,   4.14634079e-01],\n",
        "       [  9.59491909e-01,   4.00024541e-02,   5.05622709e-04],\n",
        "       [  6.22160779e-03,   2.58334637e-01,   7.35443771e-01],\n",
        "       [  1.07854779e-03,   3.51528712e-02,   9.63768601e-01],\n",
        "       [  2.91635618e-02,   7.45881915e-01,   2.24954531e-01],\n",
        "       [  3.95274395e-03,   1.39569357e-01,   8.56477916e-01],\n",
        "       [  2.26889248e-03,   8.81733671e-02,   9.09557760e-01],\n",
        "       [  9.67567027e-01,   3.20021771e-02,   4.30817658e-04],\n",
        "       [  2.70599569e-03,   8.20441097e-02,   9.15249884e-01],\n",
        "       [  9.65552390e-01,   3.39905694e-02,   4.57061687e-04],\n",
        "       [  9.60294127e-01,   3.92141901e-02,   4.91694664e-04],\n",
        "       [  2.63574049e-02,   6.82847679e-01,   2.90794909e-01],\n",
        "       [  1.98409483e-02,   6.91590250e-01,   2.88568825e-01],\n",
        "       [  9.50976372e-01,   4.83994558e-02,   6.24187582e-04],\n",
        "       [  9.63456511e-01,   3.60347107e-02,   5.08803932e-04],\n",
        "       [  9.64048207e-01,   3.55008654e-02,   4.50941647e-04],\n",
        "       [  1.39560951e-02,   4.16459173e-01,   5.69584727e-01],\n",
        "       [  2.93529243e-03,   1.05038755e-01,   8.92025948e-01],\n",
        "       [  9.12288249e-01,   8.65841582e-02,   1.12756283e-03],\n",
        "       [  9.47168469e-01,   5.21292649e-02,   7.02260877e-04],\n",
        "       [  2.68919449e-02,   7.30133533e-01,   2.42974505e-01],\n",
        "       [  1.29024442e-02,   3.99337202e-01,   5.87760329e-01],\n",
        "       [  2.69151814e-02,   6.34564996e-01,   3.38519812e-01],\n",
        "       [  1.25646060e-02,   4.16800141e-01,   5.70635259e-01],\n",
        "       [  3.21952067e-03,   1.06704280e-01,   8.90076220e-01],\n",
        "       [  9.64187860e-01,   3.53096686e-02,   5.02486073e-04],\n",
        "       [  3.98854958e-03,   1.62705451e-01,   8.33306015e-01],\n",
        "       [  9.51952457e-01,   4.74459119e-02,   6.01616281e-04],\n",
        "       [  3.12756002e-03,   8.93644169e-02,   9.07508016e-01],\n",
        "       [  5.88241266e-03,   2.20618278e-01,   7.73499310e-01],\n",
        "       [  9.51878905e-01,   4.74566594e-02,   6.64439285e-04],\n",
        "       [  2.74567772e-03,   7.31670856e-02,   9.24087226e-01],\n",
        "       [  9.52941597e-01,   4.64742519e-02,   5.84171794e-04],\n",
        "       [  1.47009885e-03,   4.92426977e-02,   9.49287176e-01],\n",
        "       [  9.72153842e-01,   2.75291316e-02,   3.17011669e-04],\n",
        "       [  3.13602500e-02,   8.03613722e-01,   1.65026054e-01],\n",
        "       [  9.57082748e-01,   4.23126630e-02,   6.04609086e-04],\n",
        "       [  2.75959130e-02,   5.59795022e-01,   4.12609071e-01]])"
       ]
      }
     ],
     "prompt_number": 28
    },
    {
     "cell_type": "markdown",
     "metadata": {},
     "source": [
      "## Calculate accuracy"
     ]
    },
    {
     "cell_type": "code",
     "collapsed": false,
     "input": [
      "model.predict_classes(X_te)"
     ],
     "language": "python",
     "metadata": {},
     "outputs": [
      {
       "output_type": "stream",
       "stream": "stdout",
       "text": [
        "\r",
        "50/50 [==============================] - 0s"
       ]
      },
      {
       "output_type": "stream",
       "stream": "stdout",
       "text": [
        "\n"
       ]
      },
      {
       "metadata": {},
       "output_type": "pyout",
       "prompt_number": 29,
       "text": [
        "array([0, 0, 1, 0, 0, 2, 2, 0, 1, 2, 2, 0, 1, 0, 2, 2, 1, 2, 2, 0, 2, 0, 0,\n",
        "       1, 1, 0, 0, 0, 2, 2, 0, 0, 1, 2, 1, 2, 2, 0, 2, 0, 2, 2, 0, 2, 0, 2,\n",
        "       0, 1, 0, 1])"
       ]
      }
     ],
     "prompt_number": 29
    },
    {
     "cell_type": "code",
     "collapsed": false,
     "input": [
      "numpy.mean(model.predict_classes(X_te) == y_te)"
     ],
     "language": "python",
     "metadata": {},
     "outputs": [
      {
       "output_type": "stream",
       "stream": "stdout",
       "text": [
        "\r",
        "50/50 [==============================] - 0s"
       ]
      },
      {
       "output_type": "stream",
       "stream": "stdout",
       "text": [
        "\n"
       ]
      },
      {
       "metadata": {},
       "output_type": "pyout",
       "prompt_number": 30,
       "text": [
        "0.85999999999999999"
       ]
      }
     ],
     "prompt_number": 30
    },
    {
     "cell_type": "markdown",
     "metadata": {},
     "source": [
      "## Exercises\n",
      "\n",
      "### XOR network \n",
      "Can you come up with a different set of weights for the XOR network?\n",
      "\n",
      "\n",
      "### Digits\n",
      "\n",
      "Train a logistic regression and a neural network classifier on the handwritten digits dataset. \n",
      "This dataset comes with scikit learn and can be accessed as follows. "
     ]
    },
    {
     "cell_type": "code",
     "collapsed": false,
     "input": [
      "from sklearn.datasets import load_digits\n",
      "digits = load_digits()"
     ],
     "language": "python",
     "metadata": {},
     "outputs": [],
     "prompt_number": 31
    },
    {
     "cell_type": "code",
     "collapsed": false,
     "input": [
      "print(digits.DESCR)"
     ],
     "language": "python",
     "metadata": {},
     "outputs": [
      {
       "output_type": "stream",
       "stream": "stdout",
       "text": [
        "Optical Recognition of Handwritten Digits Data Set\n",
        "===================================================\n",
        "\n",
        "Notes\n",
        "-----\n",
        "Data Set Characteristics:\n",
        "    :Number of Instances: 5620\n",
        "    :Number of Attributes: 64\n",
        "    :Attribute Information: 8x8 image of integer pixels in the range 0..16.\n",
        "    :Missing Attribute Values: None\n",
        "    :Creator: E. Alpaydin (alpaydin '@' boun.edu.tr)\n",
        "    :Date: July; 1998\n",
        "\n",
        "This is a copy of the test set of the UCI ML hand-written digits datasets\n",
        "http://archive.ics.uci.edu/ml/datasets/Optical+Recognition+of+Handwritten+Digits\n",
        "\n",
        "The data set contains images of hand-written digits: 10 classes where\n",
        "each class refers to a digit.\n",
        "\n",
        "Preprocessing programs made available by NIST were used to extract\n",
        "normalized bitmaps of handwritten digits from a preprinted form. From a\n",
        "total of 43 people, 30 contributed to the training set and different 13\n",
        "to the test set. 32x32 bitmaps are divided into nonoverlapping blocks of\n",
        "4x4 and the number of on pixels are counted in each block. This generates\n",
        "an input matrix of 8x8 where each element is an integer in the range\n",
        "0..16. This reduces dimensionality and gives invariance to small\n",
        "distortions.\n",
        "\n",
        "For info on NIST preprocessing routines, see M. D. Garris, J. L. Blue, G.\n",
        "T. Candela, D. L. Dimmick, J. Geist, P. J. Grother, S. A. Janet, and C.\n",
        "L. Wilson, NIST Form-Based Handprint Recognition System, NISTIR 5469,\n",
        "1994.\n",
        "\n",
        "References\n",
        "----------\n",
        "  - C. Kaynak (1995) Methods of Combining Multiple Classifiers and Their\n",
        "    Applications to Handwritten Digit Recognition, MSc Thesis, Institute of\n",
        "    Graduate Studies in Science and Engineering, Bogazici University.\n",
        "  - E. Alpaydin, C. Kaynak (1998) Cascading Classifiers, Kybernetika.\n",
        "  - Ken Tang and Ponnuthurai N. Suganthan and Xi Yao and A. Kai Qin.\n",
        "    Linear dimensionalityreduction using relevance weighted LDA. School of\n",
        "    Electrical and Electronic Engineering Nanyang Technological University.\n",
        "    2005.\n",
        "  - Claudio Gentile. A New Approximate Maximal Margin Classification\n",
        "    Algorithm. NIPS. 2000.\n",
        "\n"
       ]
      }
     ],
     "prompt_number": 32
    },
    {
     "cell_type": "code",
     "collapsed": false,
     "input": [
      "images_and_labels = list(zip(digits.images, digits.target))\n",
      "for index, (image, label) in enumerate(images_and_labels[:4]):\n",
      "    subplot(2, 4, index + 1)\n",
      "    axis('off')\n",
      "    imshow(image,cmap=plt.cm.gray_r)\n",
      "    title('%i' % label)"
     ],
     "language": "python",
     "metadata": {},
     "outputs": [
      {
       "metadata": {},
       "output_type": "display_data",
       "png": "[encoded data removed]",
       "text": [
        "<matplotlib.figure.Figure at 0x7f48d459e2b0>"
       ]
      }
     ],
     "prompt_number": 33
    },
    {
     "cell_type": "markdown",
     "metadata": {},
     "source": [
      "The targets are in `digits.target` and the pixel values flattened into an array are in `digits.data`.\n",
      "Train a classifier on the first 1000 of the images, and evaluate on the rest. Remember to convert the\n",
      "targets to the one-hot representation for training the neural network.\n",
      "\n",
      "Some things to try when training a neural network model for this dataset:\n",
      "\n",
      "- start with a two or three hidden layers\n",
      "- use between 32 to 128 units in each layer\n",
      "- try different learning rates in the Adam optimizer (lr=0.001, lr=0.0001) and monitor the loss function\n",
      "- train for at least 100 epochs"
     ]
    },
    {
     "cell_type": "code",
     "collapsed": false,
     "input": [],
     "language": "python",
     "metadata": {},
     "outputs": []
    }
   ],
   "metadata": {}
  }
 ]
}